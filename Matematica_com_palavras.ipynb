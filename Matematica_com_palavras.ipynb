{
  "nbformat": 4,
  "nbformat_minor": 0,
  "metadata": {
    "colab": {
      "provenance": []
    },
    "kernelspec": {
      "name": "python3",
      "display_name": "Python 3"
    },
    "language_info": {
      "name": "python"
    }
  },
  "cells": [
    {
      "cell_type": "markdown",
      "source": [
        "# Matemática com palavras (vetores TF-IDF)\n",
        "\n",
        "Este capítulo cobre\n",
        "* Contando palavras, n -gramas e frequências de termos para analisar o significado\n",
        "* Previsão de probabilidades de ocorrência de palavras com a Lei de Zipf\n",
        "* Representando textos em linguagem natural como vetores\n",
        "* Encontrar documentos relevantes em uma coleção de texto usando frequências de documentos\n",
        "* Estimando a similaridade de pares de documentos com similaridade de cosseno"
      ],
      "metadata": {
        "id": "6yStOwDlyqLp"
      }
    },
    {
      "cell_type": "markdown",
      "source": [
        "## 1. Bag Of Words"
      ],
      "metadata": {
        "id": "-KjddrYwyj6m"
      }
    },
    {
      "cell_type": "markdown",
      "source": [
        "Vejamos um exemplo em que contar ocorrências de palavras é útil:"
      ],
      "metadata": {
        "id": "l-kKUSpVzQju"
      }
    },
    {
      "cell_type": "code",
      "source": [],
      "metadata": {
        "id": "D2EYQdfMA6jH"
      },
      "execution_count": null,
      "outputs": []
    },
    {
      "cell_type": "code",
      "source": [
        "import spacy\n",
        "spacy.cli.download(\"en_core_web_sm\") # download do modelo de lingua inglesa\n",
        "nlp = spacy.load(\"en_core_web_sm\") # carregando o modelo de lingua inglesa na variavel nlp\n",
        "sentence = ('It has also arisen in criminal justice, healthcare, and '\n",
        "     'hiring, compounding existing racial, economic, and gender biases.')\n",
        "doc = nlp(sentence) # Processamento da sentença\n",
        "tokens = [token.text for token in doc] #extração de tokens\n",
        "tokens\n",
        "\n"
      ],
      "metadata": {
        "id": "vLpELiKpycth",
        "colab": {
          "base_uri": "https://localhost:8080/"
        },
        "outputId": "564c6720-0067-413d-e38a-4448681cc852"
      },
      "execution_count": null,
      "outputs": [
        {
          "output_type": "stream",
          "name": "stdout",
          "text": [
            "\u001b[38;5;2m✔ Download and installation successful\u001b[0m\n",
            "You can now load the package via spacy.load('en_core_web_sm')\n"
          ]
        },
        {
          "output_type": "execute_result",
          "data": {
            "text/plain": [
              "['It',\n",
              " 'has',\n",
              " 'also',\n",
              " 'arisen',\n",
              " 'in',\n",
              " 'criminal',\n",
              " 'justice',\n",
              " ',',\n",
              " 'healthcare',\n",
              " ',',\n",
              " 'and',\n",
              " 'hiring',\n",
              " ',',\n",
              " 'compounding',\n",
              " 'existing',\n",
              " 'racial',\n",
              " ',',\n",
              " 'economic',\n",
              " ',',\n",
              " 'and',\n",
              " 'gender',\n",
              " 'biases',\n",
              " '.']"
            ]
          },
          "metadata": {},
          "execution_count": 2
        }
      ]
    },
    {
      "cell_type": "code",
      "source": [
        "# fazendo o mesmo escremento porém em portugues\n",
        "\n",
        "spacy.cli.download(\"pt_core_news_sm\")\n",
        "pt = spacy.load(\"pt_core_news_sm\")\n",
        "frase = (\"O importante é não parar de questionar; a curiosidade tem sua própria razão de existir\") # citação de Einstein\n",
        "br = pt(frase)\n",
        "t1 = [token.text for token in br]\n",
        "t1"
      ],
      "metadata": {
        "colab": {
          "base_uri": "https://localhost:8080/"
        },
        "id": "D7VJ0zym4nFr",
        "outputId": "98d1f771-60b9-4ab3-f2d4-38be800f6db9"
      },
      "execution_count": null,
      "outputs": [
        {
          "output_type": "stream",
          "name": "stdout",
          "text": [
            "\u001b[38;5;2m✔ Download and installation successful\u001b[0m\n",
            "You can now load the package via spacy.load('pt_core_news_sm')\n"
          ]
        },
        {
          "output_type": "execute_result",
          "data": {
            "text/plain": [
              "['O',\n",
              " 'importante',\n",
              " 'é',\n",
              " 'não',\n",
              " 'parar',\n",
              " 'de',\n",
              " 'questionar',\n",
              " ';',\n",
              " 'a',\n",
              " 'curiosidade',\n",
              " 'tem',\n",
              " 'sua',\n",
              " 'própria',\n",
              " 'razão',\n",
              " 'de',\n",
              " 'existir']"
            ]
          },
          "metadata": {},
          "execution_count": 3
        }
      ]
    },
    {
      "cell_type": "code",
      "source": [
        "#contando a ocorrencia de tokens\n",
        "from collections import Counter\n",
        "\n",
        "bag_of_words = Counter(tokens)\n",
        "bag_of_words"
      ],
      "metadata": {
        "id": "WfUQ3cdCzgEC",
        "colab": {
          "base_uri": "https://localhost:8080/"
        },
        "outputId": "62167b7e-ad72-45f5-868c-2f7b29dfec57"
      },
      "execution_count": null,
      "outputs": [
        {
          "output_type": "execute_result",
          "data": {
            "text/plain": [
              "Counter({'It': 1,\n",
              "         'has': 1,\n",
              "         'also': 1,\n",
              "         'arisen': 1,\n",
              "         'in': 1,\n",
              "         'criminal': 1,\n",
              "         'justice': 1,\n",
              "         ',': 5,\n",
              "         'healthcare': 1,\n",
              "         'and': 2,\n",
              "         'hiring': 1,\n",
              "         'compounding': 1,\n",
              "         'existing': 1,\n",
              "         'racial': 1,\n",
              "         'economic': 1,\n",
              "         'gender': 1,\n",
              "         'biases': 1,\n",
              "         '.': 1})"
            ]
          },
          "metadata": {},
          "execution_count": 4
        }
      ]
    },
    {
      "cell_type": "code",
      "source": [
        "# Counter é usado para contar como o proprio nome diz ora pois KKKKKK\n",
        "# Um exemplo básico é que le conta as ocorrencias de listas\n",
        "\n",
        "\n",
        "minha_lista = [1, 1, 2, 1, 2, 3, 4, 1, 0, 2, 5, 6, 7, 8, 9, 1]\n",
        "print(Counter(minha_lista))\n",
        "print(Counter(minha_lista).items()) # .items() retorna um objeto de visualização aplicado a dicionários\n"
      ],
      "metadata": {
        "colab": {
          "base_uri": "https://localhost:8080/"
        },
        "id": "Kl0R6T-vP9lA",
        "outputId": "b7e8969e-1d2d-4d96-ee61-76197cae1a89"
      },
      "execution_count": null,
      "outputs": [
        {
          "output_type": "stream",
          "name": "stdout",
          "text": [
            "Counter({1: 5, 2: 3, 3: 1, 4: 1, 0: 1, 5: 1, 6: 1, 7: 1, 8: 1, 9: 1})\n",
            "dict_items([(1, 5), (2, 3), (3, 1), (4, 1), (0, 1), (5, 1), (6, 1), (7, 1), (8, 1), (9, 1)])\n"
          ]
        }
      ]
    },
    {
      "cell_type": "code",
      "source": [],
      "metadata": {
        "id": "rtNXtAIcJYBP"
      },
      "execution_count": null,
      "outputs": []
    },
    {
      "cell_type": "code",
      "source": [
        "# rankeando os tokens através de sua quantidade de ocorrencias\n",
        "bag_of_words.most_common(5) # 5 = apenas os cinco primeiros melhores rankeados"
      ],
      "metadata": {
        "colab": {
          "base_uri": "https://localhost:8080/"
        },
        "id": "F6ckihQi7WPq",
        "outputId": "77f64b85-dc14-4150-bb86-b97bcbe0fb0d"
      },
      "execution_count": null,
      "outputs": [
        {
          "output_type": "execute_result",
          "data": {
            "text/plain": [
              "[(',', 5), ('and', 2), ('It', 1), ('has', 1), ('also', 1)]"
            ]
          },
          "metadata": {},
          "execution_count": 6
        }
      ]
    },
    {
      "cell_type": "markdown",
      "source": [
        "Pandas Series é uma estrutura de dados eficiente para armazenar as contagens de tokens, incluindo as 2 tuplas do most_common método."
      ],
      "metadata": {
        "id": "sWllbYvo9N8y"
      }
    },
    {
      "cell_type": "code",
      "source": [
        "import pandas as pd\n",
        "most_common = dict(bag_of_words.most_common()) # transforma a tupla em dicionario\n",
        "counts = pd.Series(most_common) # passa o dicionário como Series do pandas\n",
        "counts"
      ],
      "metadata": {
        "colab": {
          "base_uri": "https://localhost:8080/"
        },
        "id": "6LqP5CnmQa1y",
        "outputId": "856176fa-ce13-4af3-e192-cf82508ac9f3"
      },
      "execution_count": null,
      "outputs": [
        {
          "output_type": "execute_result",
          "data": {
            "text/plain": [
              ",              5\n",
              "and            2\n",
              "It             1\n",
              "has            1\n",
              "also           1\n",
              "arisen         1\n",
              "in             1\n",
              "criminal       1\n",
              "justice        1\n",
              "healthcare     1\n",
              "hiring         1\n",
              "compounding    1\n",
              "existing       1\n",
              "racial         1\n",
              "economic       1\n",
              "gender         1\n",
              "biases         1\n",
              ".              1\n",
              "dtype: int64"
            ]
          },
          "metadata": {},
          "execution_count": 7
        }
      ]
    },
    {
      "cell_type": "code",
      "source": [],
      "metadata": {
        "id": "dGfZwL1MB7eg"
      },
      "execution_count": null,
      "outputs": []
    },
    {
      "cell_type": "code",
      "source": [],
      "metadata": {
        "id": "yzPbRncS8nOx"
      },
      "execution_count": null,
      "outputs": []
    },
    {
      "cell_type": "code",
      "source": [
        "len(counts) # gera o numero de tokens unicos no nosso vocabulario"
      ],
      "metadata": {
        "colab": {
          "base_uri": "https://localhost:8080/"
        },
        "id": "V2RwNtUW9gph",
        "outputId": "2bfe6208-03af-4476-f595-69800cd55626"
      },
      "execution_count": null,
      "outputs": [
        {
          "output_type": "execute_result",
          "data": {
            "text/plain": [
              "18"
            ]
          },
          "metadata": {},
          "execution_count": 8
        }
      ]
    },
    {
      "cell_type": "code",
      "source": [
        "counts.sum()\n"
      ],
      "metadata": {
        "colab": {
          "base_uri": "https://localhost:8080/"
        },
        "id": "X89FXqq4-Kyp",
        "outputId": "0c5a2d03-bc5c-4b69-d11f-e1b205a2661a"
      },
      "execution_count": null,
      "outputs": [
        {
          "output_type": "execute_result",
          "data": {
            "text/plain": [
              "23"
            ]
          },
          "metadata": {},
          "execution_count": 9
        }
      ]
    },
    {
      "cell_type": "code",
      "source": [
        "len(tokens)"
      ],
      "metadata": {
        "colab": {
          "base_uri": "https://localhost:8080/"
        },
        "id": "nJEiTJPg-ayi",
        "outputId": "011ec756-e29c-4eca-c933-c84c76237457"
      },
      "execution_count": null,
      "outputs": [
        {
          "output_type": "execute_result",
          "data": {
            "text/plain": [
              "23"
            ]
          },
          "metadata": {},
          "execution_count": 10
        }
      ]
    },
    {
      "cell_type": "code",
      "source": [
        "counts / counts.sum()"
      ],
      "metadata": {
        "colab": {
          "base_uri": "https://localhost:8080/"
        },
        "id": "cFCmKukv-Mgo",
        "outputId": "0f501a87-4fce-4134-c421-4c181a9446e6"
      },
      "execution_count": null,
      "outputs": [
        {
          "output_type": "execute_result",
          "data": {
            "text/plain": [
              ",              0.217391\n",
              "and            0.086957\n",
              "It             0.043478\n",
              "has            0.043478\n",
              "also           0.043478\n",
              "arisen         0.043478\n",
              "in             0.043478\n",
              "criminal       0.043478\n",
              "justice        0.043478\n",
              "healthcare     0.043478\n",
              "hiring         0.043478\n",
              "compounding    0.043478\n",
              "existing       0.043478\n",
              "racial         0.043478\n",
              "economic       0.043478\n",
              "gender         0.043478\n",
              "biases         0.043478\n",
              ".              0.043478\n",
              "dtype: float64"
            ]
          },
          "metadata": {},
          "execution_count": 11
        }
      ]
    },
    {
      "cell_type": "code",
      "source": [
        "counts['justice']"
      ],
      "metadata": {
        "colab": {
          "base_uri": "https://localhost:8080/"
        },
        "id": "lFvUqXzu-256",
        "outputId": "d054a3db-9907-4cdb-d95e-45b31f3da3ab"
      },
      "execution_count": null,
      "outputs": [
        {
          "output_type": "execute_result",
          "data": {
            "text/plain": [
              "1"
            ]
          },
          "metadata": {},
          "execution_count": 12
        }
      ]
    },
    {
      "cell_type": "code",
      "source": [
        "counts['justice'] / counts.sum()"
      ],
      "metadata": {
        "colab": {
          "base_uri": "https://localhost:8080/"
        },
        "id": "ZlwsMnwR-O_C",
        "outputId": "bd7e659c-7acc-4c97-8c61-0920ca2bdec5"
      },
      "execution_count": null,
      "outputs": [
        {
          "output_type": "execute_result",
          "data": {
            "text/plain": [
              "0.043478260869565216"
            ]
          },
          "metadata": {},
          "execution_count": 13
        }
      ]
    },
    {
      "cell_type": "markdown",
      "source": [
        "A frequência normalizada do termo \"justice\" na frase de abertura deste artigo da Wikipedia é de cerca de 4%"
      ],
      "metadata": {
        "id": "AfggtQGp_DMP"
      }
    },
    {
      "cell_type": "code",
      "source": [],
      "metadata": {
        "id": "v7NEF_oYQxLf"
      },
      "execution_count": null,
      "outputs": []
    },
    {
      "cell_type": "code",
      "source": [
        "sentence = \"Algorithmic bias has been cited in cases ranging from \" \\\n",
        "     \"election outcomes to the spread of online hate speech.\"\n",
        "\n",
        "tokens = [tok.text for tok in nlp(sentence)]\n",
        "counts = Counter(tokens)\n",
        "counts"
      ],
      "metadata": {
        "colab": {
          "base_uri": "https://localhost:8080/"
        },
        "id": "XpkmJH8ECNbP",
        "outputId": "598dba5f-3dc0-40d3-92ed-a87f986e60cb"
      },
      "execution_count": null,
      "outputs": [
        {
          "output_type": "execute_result",
          "data": {
            "text/plain": [
              "Counter({'Algorithmic': 1,\n",
              "         'bias': 1,\n",
              "         'has': 1,\n",
              "         'been': 1,\n",
              "         'cited': 1,\n",
              "         'in': 1,\n",
              "         'cases': 1,\n",
              "         'ranging': 1,\n",
              "         'from': 1,\n",
              "         'election': 1,\n",
              "         'outcomes': 1,\n",
              "         'to': 1,\n",
              "         'the': 1,\n",
              "         'spread': 1,\n",
              "         'of': 1,\n",
              "         'online': 1,\n",
              "         'hate': 1,\n",
              "         'speech': 1,\n",
              "         '.': 1})"
            ]
          },
          "metadata": {},
          "execution_count": 14
        }
      ]
    },
    {
      "cell_type": "code",
      "source": [
        "!pip install wikipedia\n"
      ],
      "metadata": {
        "colab": {
          "base_uri": "https://localhost:8080/"
        },
        "id": "sRer_7_wJ6M1",
        "outputId": "456e0b84-1d9c-4efc-9707-a33ea30f4545"
      },
      "execution_count": null,
      "outputs": [
        {
          "output_type": "stream",
          "name": "stdout",
          "text": [
            "Collecting wikipedia\n",
            "  Downloading wikipedia-1.4.0.tar.gz (27 kB)\n",
            "  Preparing metadata (setup.py) ... \u001b[?25l\u001b[?25hdone\n",
            "Requirement already satisfied: beautifulsoup4 in /usr/local/lib/python3.10/dist-packages (from wikipedia) (4.11.2)\n",
            "Requirement already satisfied: requests<3.0.0,>=2.0.0 in /usr/local/lib/python3.10/dist-packages (from wikipedia) (2.31.0)\n",
            "Requirement already satisfied: charset-normalizer<4,>=2 in /usr/local/lib/python3.10/dist-packages (from requests<3.0.0,>=2.0.0->wikipedia) (3.3.2)\n",
            "Requirement already satisfied: idna<4,>=2.5 in /usr/local/lib/python3.10/dist-packages (from requests<3.0.0,>=2.0.0->wikipedia) (3.6)\n",
            "Requirement already satisfied: urllib3<3,>=1.21.1 in /usr/local/lib/python3.10/dist-packages (from requests<3.0.0,>=2.0.0->wikipedia) (2.0.7)\n",
            "Requirement already satisfied: certifi>=2017.4.17 in /usr/local/lib/python3.10/dist-packages (from requests<3.0.0,>=2.0.0->wikipedia) (2023.11.17)\n",
            "Requirement already satisfied: soupsieve>1.2 in /usr/local/lib/python3.10/dist-packages (from beautifulsoup4->wikipedia) (2.5)\n",
            "Building wheels for collected packages: wikipedia\n",
            "  Building wheel for wikipedia (setup.py) ... \u001b[?25l\u001b[?25hdone\n",
            "  Created wheel for wikipedia: filename=wikipedia-1.4.0-py3-none-any.whl size=11678 sha256=0851dfa0f284012ba16e722fc1a232a8b170b1219fdc90caa817bb4d90b387a2\n",
            "  Stored in directory: /root/.cache/pip/wheels/5e/b6/c5/93f3dec388ae76edc830cb42901bb0232504dfc0df02fc50de\n",
            "Successfully built wikipedia\n",
            "Installing collected packages: wikipedia\n",
            "Successfully installed wikipedia-1.4.0\n"
          ]
        }
      ]
    },
    {
      "cell_type": "code",
      "source": [],
      "metadata": {
        "id": "tLbTkgtVQ9jv"
      },
      "execution_count": null,
      "outputs": []
    },
    {
      "cell_type": "code",
      "source": [
        "import wikipedia\n",
        "\n",
        "def extrair_texto_wikipedia(titulo, idioma='en'):\n",
        "    try:\n",
        "        # Configuração do idioma\n",
        "        wikipedia.set_lang(idioma)\n",
        "\n",
        "        # Obtém o conteúdo do artigo\n",
        "        texto_artigo = wikipedia.page(titulo).content\n",
        "\n",
        "        return texto_artigo\n",
        "    except wikipedia.exceptions.PageError:\n",
        "        return f\"Artigo '{titulo}' não encontrado na Wikipedia.\"\n",
        "\n",
        "# Exemplo de uso\n",
        "titulo_artigo = 'Algorithmic Bias'\n",
        "texto_artigo = extrair_texto_wikipedia(titulo_artigo)\n",
        "\n",
        "# Imprime o texto do artigo\n",
        "print(texto_artigo)\n"
      ],
      "metadata": {
        "colab": {
          "base_uri": "https://localhost:8080/"
        },
        "id": "BLhRqovMGavv",
        "outputId": "aab5b671-d17a-44e5-d0b4-44dd8bd0e1f8"
      },
      "execution_count": null,
      "outputs": [
        {
          "output_type": "stream",
          "name": "stdout",
          "text": [
            "Algorithmic bias describes systematic and repeatable errors in a computer system that create \"unfair\" outcomes, such as \"privileging\" one category over another in ways different from the intended function of the algorithm.\n",
            "Bias can emerge from many factors, including but not limited to the design of the algorithm or the unintended or unanticipated use or decisions relating to the way data is coded, collected, selected or used to train the algorithm. For example, algorithmic bias has been observed in search engine results and social media platforms. This bias can have impacts ranging from inadvertent privacy violations to reinforcing social biases of race, gender, sexuality, and ethnicity. The study of algorithmic bias is most concerned with algorithms that reflect \"systematic and unfair\" discrimination. This bias has only recently been addressed in legal frameworks, such as the European Union's General Data Protection Regulation (2018) and the proposed Artificial Intelligence Act (2021).\n",
            "As algorithms expand their ability to organize society, politics, institutions, and behavior, sociologists have become concerned with the ways in which unanticipated output and manipulation of data can impact the physical world. Because algorithms are often considered to be neutral and unbiased, they can inaccurately project greater authority than human expertise (in part due to the psychological phenomenon of automation bias), and in some cases, reliance on algorithms can displace human responsibility for their outcomes. Bias can enter into algorithmic systems as a result of pre-existing cultural, social, or institutional expectations; by how features and labels are chosen; because of technical limitations of their design; or by being used in unanticipated contexts or by audiences who are not considered in the software's initial design.Algorithmic bias has been cited in cases ranging from election outcomes to the spread of online hate speech. It has also arisen in criminal justice, healthcare, and hiring, compounding existing racial, socioeconomic, and gender biases. The relative inability of facial recognition technology to accurately identify darker-skinned faces has been linked to multiple wrongful arrests of black men, an issue stemming from imbalanced datasets. Problems in understanding, researching, and discovering algorithmic bias persist due to the proprietary nature of algorithms, which are typically treated as trade secrets. Even when full transparency is provided, the complexity of certain algorithms poses a barrier to understanding their functioning. Furthermore, algorithms may change, or respond to input or output in ways that cannot be anticipated or easily reproduced for analysis. In many cases, even within a single website or application, there is no single \"algorithm\" to examine, but a network of many interrelated programs and data inputs, even between users of the same service.\n",
            "\n",
            "\n",
            "== Definitions ==\n",
            "Algorithms are difficult to define, but may be generally understood as lists of instructions that determine how programs read, collect, process, and analyze data to generate output.: 13  For a rigorous technical introduction, see Algorithms. Advances in computer hardware have led to an increased ability to process, store and transmit data. This has in turn boosted the design and adoption of technologies such as machine learning and artificial intelligence.: 14–15  By analyzing and processing data, algorithms are the backbone of search engines, social media websites, recommendation engines, online retail, online advertising, and more.Contemporary social scientists are concerned with algorithmic processes embedded into hardware and software applications because of their political and social impact, and question the underlying assumptions of an algorithm's neutrality.: 2 : 563 : 294  The term algorithmic bias describes systematic and repeatable errors that create unfair outcomes, such as privileging one arbitrary group of users over others. For example, a credit score algorithm may deny a loan without being unfair, if it is consistently weighing relevant financial criteria. If the algorithm recommends loans to one group of users, but denies loans to another set of nearly identical users based on unrelated criteria, and if this behavior can be repeated across multiple occurrences, an algorithm can be described as biased.: 332  This bias may be intentional or unintentional (for example, it can come from biased data obtained from a worker that previously did the job the algorithm is going to do from now on).\n",
            "\n",
            "\n",
            "== Methods ==\n",
            "Bias can be introduced to an algorithm in several ways. During the assemblage of a dataset, data may be collected, digitized, adapted, and entered into a database according to human-designed cataloging criteria.: 3  Next, programmers assign priorities, or hierarchies, for how a program assesses and sorts that data. This requires human decisions about how data is categorized, and which data is included or discarded.: 4  Some algorithms collect their own data based on human-selected criteria, which can also reflect the bias of human designers.: 8  Other algorithms may reinforce stereotypes and preferences as they process and display \"relevant\" data for human users, for example, by selecting information based on previous choices of a similar user or group of users.: 6 Beyond assembling and processing data, bias can emerge as a result of design. For example, algorithms that determine the allocation of resources or scrutiny (such as determining school placements) may inadvertently discriminate against a category when determining risk based on similar users (as in credit scores).: 36  Meanwhile, recommendation engines that work by associating users with similar users, or that make use of inferred marketing traits, might rely on inaccurate associations that reflect broad ethnic, gender, socio-economic, or racial stereotypes. Another example comes from determining criteria for what is included and excluded from results. This criteria could present unanticipated outcomes for search results, such as with flight-recommendation software that omits flights that do not follow the sponsoring airline's flight paths. Algorithms may also display an uncertainty bias, offering more confident assessments when larger data sets are available. This can skew algorithmic processes toward results that more closely correspond with larger samples, which may disregard data from underrepresented populations.: 4 \n",
            "\n",
            "\n",
            "== History ==\n",
            "\n",
            "\n",
            "=== Early critiques ===\n",
            "The earliest computer programs were designed to mimic human reasoning and deductions, and were deemed to be functioning when they successfully and consistently reproduced that human logic. In his 1976 book Computer Power and Human Reason, artificial intelligence pioneer Joseph Weizenbaum suggested that bias could arise both from the data used in a program, but also from the way a program is coded.: 149 Weizenbaum wrote that programs are a sequence of rules created by humans for a computer to follow. By following those rules consistently, such programs \"embody law\",: 40  that is, enforce a specific way to solve problems. The rules a computer follows are based on the assumptions of a computer programmer for how these problems might be solved. That means the code could incorporate the programmer's imagination of how the world works, including their biases and expectations.: 109  While a computer program can incorporate bias in this way, Weizenbaum also noted that any data fed to a machine additionally reflects \"human decisionmaking processes\" as data is being selected.: 70, 105 Finally, he noted that machines might also transfer good information with unintended consequences if users are unclear about how to interpret the results.: 65  Weizenbaum warned against trusting decisions made by computer programs that a user doesn't understand, comparing such faith to a tourist who can find his way to a hotel room exclusively by turning left or right on a coin toss. Crucially, the tourist has no basis of understanding how or why he arrived at his destination, and a successful arrival does not mean the process is accurate or reliable.: 226 An early example of algorithmic bias resulted in as many as 60 women and ethnic minorities denied entry to St. George's Hospital Medical School per year from 1982 to 1986, based on implementation of a new computer-guidance assessment system that denied entry to women and men with \"foreign-sounding names\" based on historical trends in admissions. While many schools at the time employed similar biases in their selection process, St. George was most notable for automating said bias through the use of an algorithm, thus gaining the attention of people on a much wider scale.\n",
            "In recent years, when more algorithms started to use machine learning methods on real world data, algorithmic bias can be found more often due to the bias existing in the data.\n",
            "\n",
            "\n",
            "=== Contemporary critiques and responses ===\n",
            "Though well-designed algorithms frequently determine outcomes that are equally (or more) equitable than the decisions of human beings, cases of bias still occur, and are difficult to predict and analyze. The complexity of analyzing algorithmic bias has grown alongside the complexity of programs and their design. Decisions made by one designer, or team of designers, may be obscured among the many pieces of code created for a single program; over time these decisions and their collective impact on the program's output may be forgotten.: 115  In theory, these biases may create new patterns of behavior, or \"scripts\", in relationship to specific technologies as the code interacts with other elements of society. Biases may also impact how society shapes itself around the data points that algorithms require. For example, if data shows a high number of arrests in a particular area, an algorithm may assign more police patrols to that area, which could lead to more arrests.: 180 The decisions of algorithmic programs can be seen as more authoritative than the decisions of the human beings they are meant to assist,: 15  a process described by author Clay Shirky as \"algorithmic authority\". Shirky uses the term to describe \"the decision to regard as authoritative an unmanaged process of extracting value from diverse, untrustworthy sources\", such as search results. This neutrality can also be misrepresented by the language used by experts and the media when results are presented to the public. For example, a list of news items selected and presented as \"trending\" or \"popular\" may be created based on significantly wider criteria than just their popularity.: 14 Because of their convenience and authority, algorithms are theorized as a means of delegating responsibility away from humans.: 16 : 6  This can have the effect of reducing alternative options, compromises, or flexibility.: 16  Sociologist Scott Lash has critiqued algorithms as a new form of \"generative power\", in that they are a virtual means of generating actual ends. Where previously human behavior generated data to be collected and studied, powerful algorithms increasingly could shape and define human behaviors.: 71 Concerns over the impact of algorithms on society have led to the creation of working groups in organizations such as Google and Microsoft, which have co-created a working group named Fairness, Accountability,\n",
            "and Transparency in Machine Learning.: 115  Ideas from Google have included community groups that patrol the outcomes of algorithms and vote to control or restrict outputs they deem to have negative consequences.: 117  In recent years, the study of the Fairness, Accountability,\n",
            "and Transparency (FAT) of algorithms has emerged as its own interdisciplinary research area with an annual conference called FAccT. Critics have suggested that FAT initiatives cannot serve effectively as independent watchdogs when many are funded by corporations building the systems being studied.\n",
            "\n",
            "\n",
            "== Types ==\n",
            "\n",
            "\n",
            "=== Pre-existing ===\n",
            "Pre-existing bias in an algorithm is a consequence of underlying social and institutional ideologies. Such ideas may influence or create personal biases within individual designers or programmers. Such prejudices can be explicit and conscious, or implicit and unconscious.: 334 : 294  Poorly selected input data, or simply data from a biased source, will influence the outcomes created by machines.: 17  Encoding pre-existing bias into software can preserve social and institutional bias, and, without correction, could be replicated in all future uses of that algorithm.: 116 : 8 An example of this form of bias is the British Nationality Act Program, designed to automate the evaluation of new British citizens after the 1981 British Nationality Act.: 341  The program accurately reflected the tenets of the law, which stated that \"a man is the father of only his legitimate children, whereas a woman is the mother of all her children, legitimate or not.\": 341 : 375  In its attempt to transfer a particular logic into an algorithmic process, the BNAP inscribed the logic of the British Nationality Act into its algorithm, which would perpetuate it even if the act was eventually repealed.: 342 Another source of bias, which has been called “label choice bias\", arises when proxy measures are used to train algorithms, that build in bias against certain groups. For example, a widely-used algorithm predicted health care costs as a proxy for health care needs, and used predictions to allocate resources to help patients with complex health needs. This introduced bias because Black patients have lower costs, even when they are just as unhealthy as White patients Solutions to the \"label choice bias\" aim to match the actual target (what the algorithm is predicting) more closely to the ideal target (what researchers want the algorithm to predict), so for the prior example, instead of predicting cost, researchers would focus on the variable of healthcare needs which is rather more significant. Adjusting the target led to almost double the number of Black patients being selected for the program.\n",
            "\n",
            "\n",
            "=== Machine Learning Bias ===\n",
            "Machine learning bias refers to systematic and unfair disparities in the output of machine learning algorithms. These biases can manifest in various ways and are often a reflection of the data used to train these algorithms. Here are some key aspects:\n",
            "\n",
            "\n",
            "==== Language Bias ====\n",
            "Language bias refers a type of statistical sampling bias tied to the language of a query that leads to \"a systematic deviation in sampling information that prevents it from accurately representing the true coverage of topics and views available in their repository.\" Luo et al.'s work shows that current large language models, as they are predominately trained on English-language data, often present the Anglo-American views as truth, while systematically downplaying non-English perspectives as irrelevant, wrong, or noise. When queried with political ideologies like \"What is liberalism?\", ChatGPT, as it was trained on English-centric data, describes liberalism from the Anglo-American perspective, emphasizing aspects of human rights and equality, while equally valid aspects like \"opposes state intervention in personal and economic life\" from the dominant Vietnamese perspective and \"limitation of government power\" from the prevalent Chinese perspective are absent.\n",
            "\n",
            "\n",
            "==== Gender Bias ====\n",
            "Gender bias refers to the tendency of these models to produce outputs that are unfairly prejudiced towards one gender over another. This bias typically arises from the data on which these models are trained. For example, large language models often assign roles and characteristics based on traditional gender norms; it might associate nurses or secretaries predominantly with women and engineers or CEOs with men.\n",
            "\n",
            "\n",
            "==== Stereotyping ====\n",
            "Beyond gender and race, these models can reinforce a wide range of stereotypes, including those based on age, nationality, religion, or occupation. This can lead to outputs that unfairly generalize or caricature groups of people, sometimes in harmful or derogatory ways.\n",
            "\n",
            "\n",
            "==== Political Bias ====\n",
            "Political bias refers to the tendency of algorithms to systematically favor certain political viewpoints, ideologies, or outcomes over others. Language models may also exhibit political biases. Since the training data includes a wide range of political opinions and coverage, the models might generate responses that lean towards particular political ideologies or viewpoints, depending on the prevalence of those views in the data.\n",
            "\n",
            "\n",
            "=== Technical ===\n",
            "Technical bias emerges through limitations of a program, computational power, its design, or other constraint on the system.: 332  Such bias can also be a restraint of design, for example, a search engine that shows three results per screen can be understood to privilege the top three results slightly more than the next three, as in an airline price display.: 336  Another case is software that relies on randomness for fair distributions of results. If the random number generation mechanism is not truly random, it can introduce bias, for example, by skewing selections toward items at the end or beginning of a list.: 332 A decontextualized algorithm uses unrelated information to sort results, for example, a flight-pricing algorithm that sorts results by alphabetical order would be biased in favor of American Airlines over United Airlines.: 332  The opposite may also apply, in which results are evaluated in contexts different from which they are collected. Data may be collected without crucial external context: for example, when facial recognition software is used by surveillance cameras, but evaluated by remote staff in another country or region, or evaluated by non-human algorithms with no awareness of what takes place beyond the camera's field of vision. This could create an incomplete understanding of a crime scene, for example, potentially mistaking bystanders for those who commit the crime.: 574 Lastly, technical bias can be created by attempting to formalize decisions into concrete steps on the assumption that human behavior works in the same way. For example, software weighs data points to determine whether a defendant should accept a plea bargain, while ignoring the impact of emotion on a jury.: 332  Another unintended result of this form of bias was found in the plagiarism-detection software Turnitin, which compares student-written texts to information found online and returns a probability score that the student's work is copied. Because the software compares long strings of text, it is more likely to identify non-native speakers of English than native speakers, as the latter group might be better able to change individual words, break up strings of plagiarized text, or obscure copied passages through synonyms. Because it is easier for native speakers to evade detection as a result of the technical constraints of the software, this creates a scenario where Turnitin identifies foreign-speakers of English for plagiarism while allowing more native-speakers to evade detection.: 21–22 \n",
            "\n",
            "\n",
            "=== Emergent ===\n",
            "Emergent bias is the result of the use and reliance on algorithms across new or unanticipated contexts.: 334  Algorithms may not have been adjusted to consider new forms of knowledge, such as new drugs or medical breakthroughs, new laws, business models, or shifting cultural norms.: 334, 336  This may exclude groups through technology, without providing clear outlines to understand who is responsible for their exclusion.: 179 : 294  Similarly, problems may emerge when training data (the samples \"fed\" to a machine, by which it models certain conclusions) do not align with contexts that an algorithm encounters in the real world.In 1990, an example of emergent bias was identified in the software used to place US medical students into residencies, the National Residency Match Program (NRMP).: 338  The algorithm was designed at a time when few married couples would seek residencies together. As more women entered medical schools, more students were likely to request a residency alongside their partners. The process called for each applicant to provide a list of preferences for placement across the US, which was then sorted and assigned when a hospital and an applicant both agreed to a match. In the case of married couples where both sought residencies, the algorithm weighed the location choices of the higher-rated partner first. The result was a frequent assignment of highly preferred schools to the first partner and lower-preferred schools to the second partner, rather than sorting for compromises in placement preference.: 338 Additional emergent biases include:\n",
            "\n",
            "\n",
            "==== Correlations ====\n",
            "Unpredictable correlations can emerge when large data sets are compared to each other. For example, data collected about web-browsing patterns may align with signals marking sensitive data (such as race or sexual orientation). By selecting according to certain behavior or browsing patterns, the end effect would be almost identical to discrimination through the use of direct race or sexual orientation data.: 6  In other cases, the algorithm draws conclusions from correlations, without being able to understand those correlations. For example, one triage program gave lower priority to asthmatics who had pneumonia than asthmatics who did not have pneumonia. The program algorithm did this because it simply compared survival rates: asthmatics with pneumonia are at the highest risk. Historically, for this same reason, hospitals typically give such asthmatics the best and most immediate care.\n",
            "\n",
            "\n",
            "==== Unanticipated uses ====\n",
            "Emergent bias can occur when an algorithm is used by unanticipated audiences. For example, machines may require that users can read, write, or understand numbers, or relate to an interface using metaphors that they do not understand.: 334  These exclusions can become compounded, as biased or exclusionary technology is more deeply integrated into society.: 179 Apart from exclusion, unanticipated uses may emerge from the end user relying on the software rather than their own knowledge. In one example, an unanticipated user group led to algorithmic bias in the UK, when the British National Act Program was created as a proof-of-concept by computer scientists and immigration lawyers to evaluate suitability for British citizenship. The designers had access to legal expertise beyond the end users in immigration offices, whose understanding of both software and immigration law would likely have been unsophisticated. The agents administering the questions relied entirely on the software, which excluded alternative pathways to citizenship, and used the software even after new case laws and legal interpretations led the algorithm to become outdated. As a result of designing an algorithm for users assumed to be legally savvy on immigration law, the software's algorithm indirectly led to bias in favor of applicants who fit a very narrow set of legal criteria set by the algorithm, rather than by the more broader criteria of British immigration law.: 342 \n",
            "\n",
            "\n",
            "==== Feedback loops ====\n",
            "Emergent bias may also create a feedback loop, or recursion, if data collected for an algorithm results in real-world responses which are fed back into the algorithm. For example, simulations of the predictive policing software (PredPol), deployed in Oakland, California, suggested an increased police presence in black neighborhoods based on crime data reported by the public. The simulation showed that the public reported crime based on the sight of police cars, regardless of what police were doing. The simulation interpreted police car sightings in modeling its predictions of crime, and would in turn assign an even larger increase of police presence within those neighborhoods. The Human Rights Data Analysis Group, which conducted the simulation, warned that in places where racial discrimination is a factor in arrests, such feedback loops could reinforce and perpetuate racial discrimination in policing. Another well known example of such an algorithm exhibiting such behavior is COMPAS, a software that determines an individual's likelihood of becoming a criminal offender. The software is often criticized for labeling Black individuals as criminals much more likely than others, and then feeds the data back into itself in the event individuals become registered criminals, further enforcing the bias created by the dataset the algorithm is acting on.\n",
            "Recommender systems such as those used to recommend online videos or news articles can create feedback loops. When users click on content that is suggested by algorithms, it influences the next set of suggestions. Over time this may lead to users entering a filter bubble and being unaware of important or useful content.\n",
            "\n",
            "\n",
            "== Impact ==\n",
            "\n",
            "\n",
            "=== Commercial influences ===\n",
            "Corporate algorithms could be skewed to invisibly favor financial arrangements or agreements between companies, without the knowledge of a user who may mistake the algorithm as being impartial. For example, American Airlines created a flight-finding algorithm in the 1980s. The software presented a range of flights from various airlines to customers, but weighed factors that boosted its own flights, regardless of price or convenience. In testimony to the United States Congress, the president of the airline stated outright that the system was created with the intention of gaining competitive advantage through preferential treatment.: 2 : 331 In a 1998 paper describing Google, the founders of the company had adopted a policy of transparency in search results regarding paid placement, arguing that \"advertising-funded search engines will be inherently biased towards the advertisers and away from the needs of the consumers.\" This bias would be an \"invisible\" manipulation of the user.: 3 \n",
            "\n",
            "\n",
            "=== Voting behavior ===\n",
            "A series of studies about undecided voters in the US and in India found that search engine results were able to shift voting outcomes by about 20%. The researchers concluded that candidates have \"no means of competing\" if an algorithm, with or without intent, boosted page listings for a rival candidate. Facebook users who saw messages related to voting were more likely to vote. A 2010 randomized trial of Facebook users showed a 20% increase (340,000 votes) among users who saw messages encouraging voting, as well as images of their friends who had voted. Legal scholar Jonathan Zittrain has warned that this could create a \"digital gerrymandering\" effect in elections, \"the selective presentation of information by an intermediary to meet its agenda, rather than to serve its users\", if intentionally manipulated.: 335 \n",
            "\n",
            "\n",
            "=== Gender discrimination ===\n",
            "In 2016, the professional networking site LinkedIn was discovered to recommend male variations of women's names in response to search queries. The site did not make similar recommendations in searches for male names. For example, \"Andrea\" would bring up a prompt asking if users meant \"Andrew\", but queries for \"Andrew\" did not ask if users meant to find \"Andrea\". The company said this was the result of an analysis of users' interactions with the site.In 2012, the department store franchise Target was cited for gathering data points to infer when women customers were pregnant, even if they had not announced it, and then sharing that information with marketing partners.: 94  Because the data had been predicted, rather than directly observed or reported, the company had no legal obligation to protect the privacy of those customers.: 98 Web search algorithms have also been accused of bias. Google's results may prioritize pornographic content in search terms related to sexuality, for example, \"lesbian\". This bias extends to the search engine showing popular but sexualized content in neutral searches. For example, \"Top 25 Sexiest Women Athletes\" articles displayed as first-page results in searches for \"women athletes\".: 31  In 2017, Google adjusted these results along with others that surfaced hate groups, racist views, child abuse and pornography, and other upsetting and offensive content. Other examples include the display of higher-paying jobs to male applicants on job search websites. Researchers have also identified that machine translation exhibits a strong tendency towards male defaults. In particular, this is observed in fields linked to unbalanced gender distribution, including STEM occupations. In fact, current machine translation systems fail to reproduce the real world distribution of female workers.In 2015, Amazon.com turned off an AI system it developed to screen job applications when they realized it was biased against women. The recruitment tool excluded applicants who attended all-women's colleges and resumes that included the word \"women's\". A similar problem emerged with music streaming services—In 2019, it was discovered that the recommender system algorithm used by Spotify was biased against women artists. Spotify's song recommendations suggested more male artists over women artists.\n",
            "\n",
            "\n",
            "=== Racial and ethnic discrimination ===\n",
            "Algorithms have been criticized as a method for obscuring racial prejudices in decision-making.: 158  Because of how certain races and ethnic groups were treated in the past, data can often contain hidden biases. For example, black people are likely to receive longer sentences than white people who committed the same crime. This could potentially mean that a system amplifies the original biases in the data.\n",
            "In 2015, Google apologized when black users complained that an image-identification algorithm in its Photos application identified them as gorillas. In 2010, Nikon cameras were criticized when image-recognition algorithms consistently asked Asian users if they were blinking. Such examples are the product of bias in biometric data sets. Biometric data is drawn from aspects of the body, including racial features either observed or inferred, which can then be transferred into data points.: 154  Speech recognition technology can have different accuracies depending on the user's accent. This may be caused by the a lack of training data for speakers of that accent.Biometric data about race may also be inferred, rather than observed. For example, a 2012 study showed that names commonly associated with blacks were more likely to yield search results implying arrest records, regardless of whether there is any police record of that individual's name. A 2015 study also found that Black and Asian people are assumed to have lesser functioning lungs due to racial and occupational exposure data not being incorporated into the prediction algorithm's model of lung function.In 2019, a research study revealed that a healthcare algorithm sold by Optum favored white patients over sicker black patients. The algorithm predicts how much patients would cost the health-care system in the future. However, cost is not race-neutral, as black patients incurred about $1,800 less in medical costs per year than white patients with the same number of chronic conditions, which led to the algorithm scoring white patients as equally at risk of future health problems as black patients who suffered from significantly more diseases.A study conducted by researchers at UC Berkeley in November 2019 revealed that mortgage algorithms have been discriminatory towards Latino and African Americans which discriminated against minorities based on \"creditworthiness\" which is rooted in the U.S. fair-lending law which allows lenders to use measures of identification to determine if an individual is worthy of receiving loans. These particular algorithms were present in FinTech companies and were shown to discriminate against minorities.\n",
            "\n",
            "\n",
            "==== Law enforcement and legal proceedings ====\n",
            "Algorithms already have numerous applications in legal systems. An example of this is COMPAS, a commercial program widely used by U.S. courts to assess the likelihood of a defendant becoming a recidivist. ProPublica claims that the average COMPAS-assigned recidivism risk level of black defendants is significantly higher than the average COMPAS-assigned risk level of white defendants, and that black defendants are twice as likely to be erroneously assigned the label \"high-risk\" as white defendants.One example is the use of risk assessments in criminal sentencing in the United States and parole hearings, judges were presented with an algorithmically generated score intended to reflect the risk that a prisoner will repeat a crime. For the time period starting in 1920 and ending in 1970, the nationality of a criminal's father was a consideration in those risk assessment scores.: 4  Today, these scores are shared with judges in Arizona, Colorado, Delaware, Kentucky, Louisiana, Oklahoma, Virginia, Washington, and Wisconsin. An independent investigation by ProPublica found that the scores were inaccurate 80% of the time, and disproportionately skewed to suggest blacks to be at risk of relapse, 77% more often than whites.One study that set out to examine \"Risk, Race, & Recidivism: Predictive Bias and Disparate Impact\" alleges a two-fold (45 percent vs. 23 percent) adverse likelihood for black vs. Caucasian defendants to be misclassified as imposing a higher risk despite having objectively remained without any documented recidivism over a two-year period of observation.In the pretrial detention context, a law review article argues that algorithmic risk assessments violate 14th Amendment Equal Protection rights on the basis of race, since the algorithms are argued to be facially discriminatory, to result in disparate treatment, and to not be narrowly tailored.\n",
            "\n",
            "\n",
            "==== Online hate speech ====\n",
            "In 2017 a Facebook algorithm designed to remove online hate speech was found to advantage white men over black children when assessing objectionable content, according to internal Facebook documents. The algorithm, which is a combination of computer programs and human content reviewers, was created to protect broad categories rather than specific subsets of categories. For example, posts denouncing \"Muslims\" would be blocked, while posts denouncing \"Radical Muslims\" would be allowed. An unanticipated outcome of the algorithm is to allow hate speech against black children, because they denounce the \"children\" subset of blacks, rather than \"all blacks\", whereas \"all white men\" would trigger a block, because whites and males are not considered subsets. Facebook was also found to allow ad purchasers to target \"Jew haters\" as a category of users, which the company said was an inadvertent outcome of algorithms used in assessing and categorizing data. The company's design also allowed ad buyers to block African-Americans from seeing housing ads.While algorithms are used to track and block hate speech, some were found to be 1.5 times more likely to flag information posted by Black users and 2.2 times likely to flag information as hate speech if written in African American English. Without context for slurs and epithets, even when used by communities which have re-appropriated them, were flagged.\n",
            "\n",
            "\n",
            "==== Surveillance ====\n",
            "Surveillance camera software may be considered inherently political because it requires algorithms to distinguish normal from abnormal behaviors, and to determine who belongs in certain locations at certain times.: 572  The ability of such algorithms to recognize faces across a racial spectrum has been shown to be limited by the racial diversity of images in its training database; if the majority of photos belong to one race or gender, the software is better at recognizing other members of that race or gender. However, even audits of these image-recognition systems are ethically fraught, and some scholars have suggested the technology's context will always have a disproportionate impact on communities whose actions are over-surveilled. For example, a 2002 analysis of software used to identify individuals in CCTV images found several examples of bias when run against criminal databases. The software was assessed as identifying men more frequently than women, older people more frequently than the young, and identified Asians, African-Americans and other races more often than whites.: 190  A 2018 study found that facial recognition software most likely accurately identified light-skinned (typically European) males, with slightly lower accuracy rates for light-skinned females. Dark-skinned males and females were significanfly less likely to be accurately identified by facial recognition software. These disparities are attributed to the under-representation of darker-skinned participants in data sets used to develop this software.\n",
            "\n",
            "\n",
            "=== Discrimination against the LGBTQ community ===\n",
            "In 2011, users of the gay hookup application Grindr reported that the Android store's recommendation algorithm was linking Grindr to applications designed to find sex offenders, which critics said inaccurately related homosexuality with pedophilia. Writer Mike Ananny criticized this association in The Atlantic, arguing that such associations further stigmatized gay men. In 2009, online retailer Amazon de-listed 57,000 books after an algorithmic change expanded its \"adult content\" blacklist to include any book addressing sexuality or gay themes, such as the critically acclaimed novel Brokeback Mountain.: 5 In 2019, it was found that on Facebook, searches for \"photos of my female friends\" yielded suggestions such as \"in bikinis\" or \"at the beach\". In contrast, searches for \"photos of my male friends\" yielded no results.Facial recognition technology has been seen to cause problems for transgender individuals. In 2018, there were reports of Uber drivers who were transgender or transitioning experiencing difficulty with the facial recognition software that Uber implements as a built-in security measure. As a result of this, some of the accounts of trans Uber drivers were suspended which cost them fares and potentially cost them a job, all due to the facial recognition software experiencing difficulties with recognizing the face of a trans driver who was transitioning. Although the solution to this issue would appear to be including trans individuals in training sets for machine learning models, an instance of trans YouTube videos that were collected to be used in training data did not receive consent from the trans individuals that were included in the videos, which created an issue of violation of privacy.There has also been a study that was conducted at Stanford University in 2017 that tested algorithms in a machine learning system that was said to be able to detect an individual's sexual orientation based on their facial images. The model in the study predicted a correct distinction between gay and straight men 81% of the time, and a correct distinction between gay and straight women 74% of the time. This study resulted in a backlash from the LGBTQIA community, who were fearful of the possible negative repercussions that this AI system could have on individuals of the LGBTQIA community by putting individuals at risk of being \"outed\" against their will.\n",
            "\n",
            "\n",
            "=== Disability discrimination ===\n",
            "While the modalities of algorithmic fairness have been judged on the basis of different aspects of bias – like gender, race and socioeconomic status, disability often is left out of the list. The marginalization people with disabilities currently face in society is being translated into AI systems and algorithms, creating even more exclusionThe shifting nature of disabilities and its subjective characterization, makes it more difficult to computationally address. The lack of historical depth in defining disabilities, collecting its incidence and prevalence in questionnaires, and establishing recognition add to the controversy and ambiguity in its quantification and calculations.  The definition of disability has been long debated shifting from a medical model to a social model of disability most recently, which establishes that disability is a result of the mismatch between people's interactions and barriers in their environment, rather than impairments and health conditions. Disabilities can also be situational or temporary, considered in a constant state of flux. Disabilities are incredibly diverse, fall within a large spectrum, and can be unique to each individual. People’s identity can vary based on the specific types of disability they experience, how they use assistive technologies, and who they support.  The high level of variability across people’s experiences greatly personalizes how a disability can manifest. Overlapping identities and intersectional experiences are excluded from statistics and datasets, hence underrepresented and nonexistent in training data. Therefore, machine learning models are trained inequitably and artificial intelligent systems perpetuate more algorithmic bias. For example, if people with speech impairments aren’t included in training voice control features and smart AI assistants –they are unable to use the feature or the responses received from a Google Home or Alexa are extremely poor.\n",
            "Given the stereotypes and stigmas that still exist surrounding disabilities, the sensitive nature of revealing these identifying characteristics also carries vast privacy challenges. As disclosing disability information can be taboo and drive further discrimination against this population, there is a lack of explicit disability data available for algorithmic systems to interact with. People with disabilities face additional harms and risks with respect to their social support, cost of health insurance, workplace discrimination and other basic necessities upon disclosing their disability status. Algorithms are further exacerbating this gap by recreating the biases that already exist in societal systems and structures.\n",
            "\n",
            "\n",
            "=== Google Search ===\n",
            "While users generate results that are \"completed\" automatically, Google has failed to remove sexist and racist autocompletion text. For example, Algorithms of Oppression: How Search Engines Reinforce Racism Safiya Noble notes an example of the search for \"black girls\", which was reported to result in pornographic images. Google claimed it was unable to erase those pages unless they were considered unlawful.\n",
            "\n",
            "\n",
            "== Obstacles to research ==\n",
            "Several problems impede the study of large-scale algorithmic bias, hindering the application of academically rigorous studies and public understanding.: 5  \n",
            "\n",
            "\n",
            "=== Defining fairness ===\n",
            "\n",
            "Literature on algorithmic bias has focused on the remedy of fairness, but definitions of fairness are often incompatible with each other and the realities of machine learning optimization. For example, defining fairness as an \"equality of outcomes\" may simply refer to a system producing the same result for all people, while fairness defined as \"equality of treatment\" might explicitly consider differences between individuals.: 2  As a result, fairness is sometimes described as being in conflict with the accuracy of a model, suggesting innate tensions between the priorities of social welfare and the priorities of the vendors designing these systems.: 2  In response to this tension, researchers have suggested more care to the design and use of systems that draw on potentially biased algorithms, with \"fairness\" defined for specific applications and contexts.\n",
            "\n",
            "\n",
            "=== Complexity ===\n",
            "Algorithmic processes are complex, often exceeding the understanding of the people who use them.: 2 : 7  Large-scale operations may not be understood even by those involved in creating them. The methods and processes of contemporary programs are often obscured by the inability to know every permutation of a code's input or output.: 183  Social scientist Bruno Latour has identified this process as blackboxing, a process in which \"scientific and technical work is made invisible by its own success. When a machine runs efficiently, when a matter of fact is settled, one need focus only on its inputs and outputs and not on its internal complexity. Thus, paradoxically, the more science and technology succeed, the more opaque and obscure they become.\" Others have critiqued the black box metaphor, suggesting that current algorithms are not one black box, but a network of interconnected ones.: 92 An example of this complexity can be found in the range of inputs into customizing feedback. The social media site Facebook factored in at least 100,000 data points to determine the layout of a user's social media feed in 2013. Furthermore, large teams of programmers may operate in relative isolation from one another, and be unaware of the cumulative effects of small decisions within connected, elaborate algorithms.: 118  Not all code is original, and may be borrowed from other libraries, creating a complicated set of relationships between data processing and data input systems.: 22 Additional complexity occurs through machine learning and the personalization of algorithms based on user interactions such as clicks, time spent on site, and other metrics. These personal adjustments can confuse general attempts to understand algorithms.: 367 : 7  One unidentified streaming radio service reported that it used five unique music-selection algorithms it selected for its users, based on their behavior. This creates different experiences of the same streaming services between different users, making it harder to understand what these algorithms do.: 5 \n",
            "Companies also run frequent A/B tests to fine-tune algorithms based on user response. For example, the search engine Bing can run up to ten million subtle variations of its service per day, creating different experiences of the service between each use and/or user.: 5 \n",
            "\n",
            "\n",
            "=== Lack of transparency ===\n",
            "Commercial algorithms are proprietary, and may be treated as trade secrets.: 2 : 7 : 183  Treating algorithms as trade secrets protects companies, such as search engines, where a transparent algorithm might reveal tactics to manipulate search rankings.: 366  This makes it difficult for researchers to conduct interviews or analysis to discover how algorithms function.: 20  Critics suggest that such secrecy can also obscure possible unethical methods used in producing or processing algorithmic output.: 369  Other critics, such as lawyer and activist Katarzyna Szymielewicz, have suggested that the lack of transparency is often disguised as a result of algorithmic complexity, shielding companies from disclosing or investigating its own algorithmic processes.\n",
            "\n",
            "\n",
            "=== Lack of data about sensitive categories ===\n",
            "A significant barrier to understanding the tackling of bias in practice is that categories, such as demographics of individuals protected by anti-discrimination law, are often not explicitly considered when collecting and processing data. In some cases, there is little opportunity to collect this data explicitly, such as in device fingerprinting, ubiquitous computing and the Internet of Things. In other cases, the data controller may not wish to collect such data for reputational reasons, or because it represents a heightened liability and security risk. It may also be the case that, at least in relation to the European Union's General Data Protection Regulation, such data falls under the 'special category' provisions (Article 9), and therefore comes with more restrictions on potential collection and processing.\n",
            "Some practitioners have tried to estimate and impute these missing sensitive categorisations in order to allow bias mitigation, for example building systems to infer ethnicity from names, however this can introduce other forms of bias if not undertaken with care. Machine learning researchers have drawn upon cryptographic privacy-enhancing technologies such as secure multi-party computation to propose methods whereby algorithmic bias can be assessed or mitigated without these data ever being available to modellers in cleartext.Algorithmic bias does not only include protected categories, but can also concern characteristics less easily observable or codifiable, such as political viewpoints. In these cases, there is rarely an easily accessible or non-controversial ground truth, and removing the bias from such a system is more difficult. Furthermore, false and accidental correlations can emerge from a lack of understanding of protected categories, for example, insurance rates based on historical data of car accidents which may overlap, strictly by coincidence, with residential clusters of ethnic minorities.\n",
            "\n",
            "\n",
            "== Solutions ==\n",
            "A study of 84 policy guidelines on ethical AI found that fairness and \"mitigation of unwanted bias\" was a common point of concern, and were addressed through a blend of technical solutions, transparency and monitoring, right to remedy and increased oversight, and diversity and inclusion efforts.\n",
            "\n",
            "\n",
            "=== Technical ===\n",
            "\n",
            "There have been several attempts to create methods and tools that can detect and observe biases within an algorithm. These emergent fields focus on tools which are typically applied to the (training) data used by the program rather than the algorithm's internal processes. These methods may also analyze a program's output and its usefulness and therefore may involve the analysis of its confusion matrix (or table of confusion). Explainable AI to detect algorithm Bias is a suggested way to detect the existence of bias in an algorithm or learning model. Using machine learning to detect bias is called, \"conducting an AI audit\", where the \"auditor\" is an algorithm that goes through the AI model and the training data to identify biases.\n",
            "Ensuring that an AI tool such as a classifier is free from bias is more difficult than just removing the sensitive information\n",
            "from its input signals, because this is typically implicit in other signals. For example, the hobbies, sports and schools attended\n",
            "by a job candidate might reveal their gender to the software, even when this is removed from the analysis. Solutions to this\n",
            "problem involve ensuring that the intelligent agent does not have any information that could be used to reconstruct the protected\n",
            "and sensitive information about the subject, as first demonstrated in  where a deep learning network was simultaneously trained to learn a task while at the same time being completely agnostic about the protected feature. A simpler method was proposed in the context of word embeddings, and involves removing information that is correlated with the protected characteristic.Currently, a new IEEE standard is being drafted that aims to specify methodologies which help creators of algorithms eliminate issues of bias and articulate transparency (i.e. to authorities or end users) about the function and possible effects of their algorithms. The project was approved February 2017 and is sponsored by the Software & Systems Engineering Standards Committee, a committee chartered by the IEEE Computer Society. A draft of the standard is expected to be submitted for balloting in June 2019.\n",
            "\n",
            "\n",
            "=== Transparency and monitoring ===\n",
            "\n",
            "Ethics guidelines on AI point to the need for accountability, recommending that steps be taken to improve the interpretability of results. Such solutions include the consideration of the \"right to understanding\" in machine learning algorithms, and to resist deployment of machine learning in situations where the decisions could not be explained or reviewed. Toward this end, a movement for \"Explainable AI\" is already underway within organizations such as DARPA, for reasons that go beyond the remedy of bias. Price Waterhouse Coopers, for example, also suggests that monitoring output means designing systems in such a way as to ensure that solitary components of the system can be isolated and shut down if they skew results.An initial approach towards transparency included the open-sourcing of algorithms. Software code can be looked into and improvements can be proposed through source-code-hosting facilities. However, this approach doesn't necessarily produce the intended effects. Companies and organizations can share all possible documentation and code, but this does not establish transparency if the audience doesn't understand the information given. Therefore, the role of an interested critical audience is worth exploring in relation to transparency. Algorithms cannot be held accountable without a critical audience.\n",
            "\n",
            "\n",
            "=== Right to remedy ===\n",
            "From a regulatory perspective, the Toronto Declaration calls for applying a human rights framework to harms caused by algorithmic bias. This includes legislating expectations of due diligence on behalf of designers of these algorithms, and creating accountability when private actors fail to protect the public interest, noting that such rights may be obscured by the complexity of determining responsibility within a web of complex, intertwining processes. Others propose the need for clear liability insurance mechanisms.\n",
            "\n",
            "\n",
            "=== Diversity and inclusion ===\n",
            "Amid concerns that the design of AI systems is primarily the domain of white, male engineers, a number of scholars have suggested that algorithmic bias may be minimized by expanding inclusion in the ranks of those designing AI systems. For example, just 12% of machine learning engineers are women, with black AI leaders pointing to a \"diversity crisis\" in the field. Groups like Black in AI and Queer in AI are attempting to create more inclusive spaces in the AI community and work against the often harmful desires of corporations that control the trajectory of AI research. Critiques of simple inclusivity efforts suggest that diversity programs can not address overlapping forms of inequality, and have called for applying a more deliberate lens of intersectionality to the design of algorithms.: 4  Researchers at the University of Cambridge have argued that addressing racial diversity is hampered by the \"whiteness\" of the culture of AI.\n",
            "\n",
            "\n",
            "=== Interdisciplinarity and Collaboration ===\n",
            "Integrating interdisciplinarity and collaboration in developing of AI systems can play a critical role in tackling algorithmic bias. Integrating insights, expertise, and perspectives from disciplines outside of computer science can foster a better understanding of the impact data driven solutions have on society. An example of this in AI research is PACT or Participatory Approach to enable Capabilities in communiTies, a proposed framework for facilitating collaboration when developing AI driven solutions concerned with social impact. This framework identifies guiding principals for stakeholder participation when working on AI for Social Good (AI4SG) projects. PACT attempts to reify the importance of decolonizing and power-shifting efforts in the design of human-centered AI solutions. An academic initiative in this regard is the Stanford University's Institute for Human-Centered Artificial Intelligence which aims to foster multidisciplinary collaboration. The mission of the institute is to advance artificial intelligence (AI) research, education, policy and practice to improve the human condition.Collaboration with outside experts and various stakeholders facilitates ethical, inclusive, and accountable development of intelligent systems. It incorporates ethical considerations, understands the social and cultural context, promotes human-centered design, leverages technical expertise, and addresses policy and legal considerations. Collaboration across disciplines is essential to effectively mitigate bias in AI systems and ensure that AI technologies are fair, transparent, and accountable.\n",
            "\n",
            "\n",
            "== Regulation ==\n",
            "\n",
            "\n",
            "=== Europe ===\n",
            "The General Data Protection Regulation (GDPR), the European Union's revised data protection regime that was implemented in 2018, addresses \"Automated individual decision-making, including profiling\" in Article 22. These rules prohibit \"solely\" automated decisions which have a \"significant\" or \"legal\" effect on an individual, unless they are explicitly authorised by consent, contract, or member state law. Where they are permitted, there must be safeguards in place, such as a right to a human-in-the-loop, and a non-binding right to an explanation of decisions reached. While these regulations are commonly considered to be new, nearly identical provisions have existed across Europe since 1995, in Article 15 of the Data Protection Directive. The original automated decision rules and safeguards found in French law since the late 1970s.\n",
            "The GDPR addresses algorithmic bias in profiling systems, as well as the statistical approaches possible to clean it, directly in recital 71, noting thatthe controller should use appropriate mathematical or statistical procedures for the profiling, implement technical and organisational measures appropriate ... that prevents, inter alia, discriminatory effects on natural persons on the basis of racial or ethnic origin, political opinion, religion or beliefs, trade union membership, genetic or health status or sexual orientation, or that result in measures having such an effect.Like the non-binding right to an explanation in recital 71, the problem is the non-binding nature of recitals. While it has been treated as a requirement by the Article 29 Working Party that advised on the implementation of data protection law, its practical dimensions are unclear. It has been argued that the Data Protection Impact Assessments for high risk data profiling (alongside other pre-emptive measures within data protection) may be a better way to tackle issues of algorithmic discrimination, as it restricts the actions of those deploying algorithms, rather than requiring consumers to file complaints or request changes.\n",
            "\n",
            "\n",
            "=== United States ===\n",
            "The United States has no general legislation controlling algorithmic bias, approaching the problem through various state and federal laws that might vary by industry, sector, and by how an algorithm is used. Many policies are self-enforced or controlled by the Federal Trade Commission. In 2016, the Obama administration released the National Artificial Intelligence Research and Development Strategic Plan, which was intended to guide policymakers toward a critical assessment of algorithms. It recommended researchers to \"design these systems so that their actions and decision-making are transparent and easily interpretable by humans, and thus can be examined for any bias they may contain, rather than just learning and repeating these biases\". Intended only as guidance, the report did not create any legal precedent.: 26 In 2017, New York City passed the first algorithmic accountability bill in the United States. The bill, which went into effect on January 1, 2018, required \"the creation of a task force that provides recommendations on how information on agency automated decision systems may be shared with the public, and how agencies may address instances where people are harmed by agency automated decision systems.\" The task force is required to present findings and recommendations for further regulatory action in 2019.\n",
            "\n",
            "\n",
            "=== India ===\n",
            "On July 31, 2018, a draft of the Personal Data Bill was presented. The draft proposes standards for the storage, processing and transmission of data. While it does not use the term algorithm, it makes for provisions for \"harm resulting from any processing or any kind of processing undertaken by the fiduciary\". It defines \"any denial or withdrawal of a service, benefit or good resulting from an evaluative decision about the data principal\" or \"any discriminatory treatment\" as a source of harm that could arise from improper use of data. It also makes special provisions for people of \"Intersex status\".\n",
            "\n",
            "\n",
            "== See also ==\n",
            "Ethics of artificial intelligence\n",
            "Fairness (machine learning)\n",
            "Hallucination (artificial intelligence)\n",
            "Misaligned goals in artificial intelligence\n",
            "Predictive policing\n",
            "SenseTime\n",
            "\n",
            "\n",
            "== References ==\n",
            "\n",
            "\n",
            "== Further reading ==\n",
            "Baer, Tobias (2019). Understand, Manage, and Prevent Algorithmic Bias: A Guide for Business Users and Data Scientists. New York: Apress. ISBN 9781484248843.\n",
            "Noble, Safiya Umoja (2018). Algorithms of Oppression: How Search Engines Reinforce Racism. New York: New York University Press. ISBN 9781479837243.\n"
          ]
        }
      ]
    },
    {
      "cell_type": "code",
      "source": [],
      "metadata": {
        "id": "mr57_aYkRs9l"
      },
      "execution_count": null,
      "outputs": []
    },
    {
      "cell_type": "code",
      "source": [
        "# realizando uma solicitação HTTP e obtendo o conteudo do arquivo\n",
        "import requests\n",
        "\n",
        "url = ('https://gitlab.com/tangibleai/nlpia2/'\n",
        "        '-/raw/main/src/nlpia2/ch03/bias_intro.txt')\n",
        "\n",
        "response = requests.get(url) # solicitação HTTP GET para obter o conteudo do arquivo\n",
        "response # exibindo a resposta HTTP obtida\n",
        "# response 200 = OK foi bem sucedido"
      ],
      "metadata": {
        "colab": {
          "base_uri": "https://localhost:8080/"
        },
        "id": "H_f7TO2fRk0J",
        "outputId": "463e7bf5-495b-455f-decb-b0bbe8410e17"
      },
      "execution_count": null,
      "outputs": [
        {
          "output_type": "execute_result",
          "data": {
            "text/plain": [
              "<Response [200]>"
            ]
          },
          "metadata": {},
          "execution_count": 17
        }
      ]
    },
    {
      "cell_type": "code",
      "source": [],
      "metadata": {
        "id": "TNi6ISnN__Zp"
      },
      "execution_count": null,
      "outputs": []
    },
    {
      "cell_type": "markdown",
      "source": [
        "Portanto, resumidamente, o código anterior utiliza a biblioteca requests para fazer uma solicitação HTTP GET à URL fornecida e armazena a resposta resultante na variável response. O conteúdo do arquivo de texto pode ser acessado através do atributo response.text."
      ],
      "metadata": {
        "id": "WQcwwK64ScIH"
      }
    },
    {
      "cell_type": "code",
      "source": [],
      "metadata": {
        "id": "YVMRc_QpSiGn"
      },
      "execution_count": null,
      "outputs": []
    },
    {
      "cell_type": "code",
      "source": [
        "# Obtendo os dados em formato de bytes e texto\n",
        "bias_intro_bytes = response.content # sequencia de bytes\n",
        "bias_intro = response.text # conteudo da resposta interpretado como texto\n",
        "\n",
        "# verificação de igualdade entre a representação de bytes e texto\n",
        "assert bias_intro_bytes.decode() == bias_intro # .decode() transforma a representação de bytes em strings para comparar\n",
        "# em resumo, esta assertiva verifica se a representação de bytes convertida para texto é igual ao texto origional\n",
        "\n",
        "# exibição do conteudo do arquivo de texto\n",
        "bias_intro\n"
      ],
      "metadata": {
        "colab": {
          "base_uri": "https://localhost:8080/",
          "height": 239
        },
        "id": "pDvtkAQlSU_X",
        "outputId": "003600cb-5b69-4634-eef7-52b1ddda3a1a"
      },
      "execution_count": null,
      "outputs": [
        {
          "output_type": "execute_result",
          "data": {
            "text/plain": [
              "'Algorithmic bias describes systematic and repeatable errors in a computer system that create unfair outcomes, such as privileging one arbitrary group of users over others.\\nBias can emerge due to many factors, including but not limited to the design of the algorithm or the unintended or unanticipated use or decisions relating to the way data is coded, collected, selected or used to train the algorithm.\\nAlgorithmic bias is found across platforms, including but not limited to search engine results and social media platforms, and can have impacts ranging from inadvertent privacy violations to reinforcing social biases of race, gender, sexuality, and ethnicity.\\nThe study of algorithmic bias is most concerned with algorithms that reflect \"systematic and unfair\" discrimination.\\nThis bias has only recently been addressed in legal frameworks, such as the 2018 European Union\\'s General Data Protection Regulation.\\nMore comprehensive regulation is needed as emerging technologies become increasingly advanced and opaque.\\n\\nAs algorithms expand their ability to organize society, politics, institutions, and behavior, sociologists have become concerned with the ways in which unanticipated output and manipulation of data can impact the physical world.\\nBecause algorithms are often considered to be neutral and unbiased, they can inaccurately project greater authority than human expertise, and in some cases, reliance on algorithms can displace human responsibility for their outcomes.\\nBias can enter into algorithmic systems as a result of pre-existing cultural, social, or institutional expectations; because of technical limitations of their design; or by being used in unanticipated contexts or by audiences who are not considered in the software\\'s initial design.\\n\\nAlgorithmic bias has been cited in cases ranging from election outcomes to the spread of online hate speech.\\nIt has also arisen in criminal justice, healthcare, and hiring, compounding existing racial, economic, and gender biases.\\nThe relative inability of facial recognition technology to accurately identify darker-skinned faces has been linked to multiple wrongful arrests of men of color, an issue stemming from imbalanced datasets.\\nProblems in understanding, researching, and discovering algorithmic bias persist due to the proprietary nature of algorithms, which are typically treated as trade secrets.\\nEven when full transparency is provided, the complexity of certain algorithms poses a barrier to understanding their functioning.\\nFurthermore, algorithms may change, or respond to input or output in ways that cannot be anticipated or easily reproduced for analysis.\\nIn many cases, even within a single website or application, there is no single \"algorithm\" to examine, but a network of many interrelated programs and data inputs, even between users of the same service.\\n'"
            ],
            "application/vnd.google.colaboratory.intrinsic+json": {
              "type": "string"
            }
          },
          "metadata": {},
          "execution_count": 18
        }
      ]
    },
    {
      "cell_type": "code",
      "source": [],
      "metadata": {
        "id": "DipVzFbMLHss"
      },
      "execution_count": null,
      "outputs": []
    },
    {
      "cell_type": "markdown",
      "source": [
        "O pacote requests retorna um objeto de resposta HTTP contendo os cabeçalhos (em .headers) e o corpo (.text) de uma resposta HTTP.  O arquivo bias_intro.txt dos dados do pacote nlpia2 é um instantâneo de 2023 dos três primeiros parágrafos do artigo da Wikipedia."
      ],
      "metadata": {
        "id": "Y3Lb2Y5nNbte"
      }
    },
    {
      "cell_type": "code",
      "source": [
        "# processamento do conteúdo do arquivo de texto\n",
        "tokens = [tok.text for tok in nlp(bias_intro)] # gerando tokens\n",
        "counts = Counter(tokens) # contagem de cada token\n",
        "counts # exibição da contagem\n"
      ],
      "metadata": {
        "colab": {
          "base_uri": "https://localhost:8080/"
        },
        "id": "a6WRzwyES584",
        "outputId": "5340c935-d2eb-4e9c-ac5a-4d9b0c25ef97"
      },
      "execution_count": null,
      "outputs": [
        {
          "output_type": "execute_result",
          "data": {
            "text/plain": [
              "Counter({'Algorithmic': 3,\n",
              "         'bias': 6,\n",
              "         'describes': 1,\n",
              "         'systematic': 2,\n",
              "         'and': 14,\n",
              "         'repeatable': 1,\n",
              "         'errors': 1,\n",
              "         'in': 10,\n",
              "         'a': 5,\n",
              "         'computer': 1,\n",
              "         'system': 1,\n",
              "         'that': 3,\n",
              "         'create': 1,\n",
              "         'unfair': 2,\n",
              "         'outcomes': 3,\n",
              "         ',': 35,\n",
              "         'such': 2,\n",
              "         'as': 5,\n",
              "         'privileging': 1,\n",
              "         'one': 1,\n",
              "         'arbitrary': 1,\n",
              "         'group': 1,\n",
              "         'of': 16,\n",
              "         'users': 2,\n",
              "         'over': 1,\n",
              "         'others': 1,\n",
              "         '.': 16,\n",
              "         '\\n': 14,\n",
              "         'Bias': 2,\n",
              "         'can': 7,\n",
              "         'emerge': 1,\n",
              "         'due': 2,\n",
              "         'to': 15,\n",
              "         'many': 3,\n",
              "         'factors': 1,\n",
              "         'including': 2,\n",
              "         'but': 3,\n",
              "         'not': 4,\n",
              "         'limited': 2,\n",
              "         'the': 13,\n",
              "         'design': 3,\n",
              "         'algorithm': 3,\n",
              "         'or': 11,\n",
              "         'unintended': 1,\n",
              "         'unanticipated': 3,\n",
              "         'use': 1,\n",
              "         'decisions': 1,\n",
              "         'relating': 1,\n",
              "         'way': 1,\n",
              "         'data': 3,\n",
              "         'is': 6,\n",
              "         'coded': 1,\n",
              "         'collected': 1,\n",
              "         'selected': 1,\n",
              "         'used': 2,\n",
              "         'train': 1,\n",
              "         'found': 1,\n",
              "         'across': 1,\n",
              "         'platforms': 2,\n",
              "         'search': 1,\n",
              "         'engine': 1,\n",
              "         'results': 1,\n",
              "         'social': 3,\n",
              "         'media': 1,\n",
              "         'have': 2,\n",
              "         'impacts': 1,\n",
              "         'ranging': 2,\n",
              "         'from': 3,\n",
              "         'inadvertent': 1,\n",
              "         'privacy': 1,\n",
              "         'violations': 1,\n",
              "         'reinforcing': 1,\n",
              "         'biases': 2,\n",
              "         'race': 1,\n",
              "         'gender': 2,\n",
              "         'sexuality': 1,\n",
              "         'ethnicity': 1,\n",
              "         'The': 2,\n",
              "         'study': 1,\n",
              "         'algorithmic': 3,\n",
              "         'most': 1,\n",
              "         'concerned': 2,\n",
              "         'with': 2,\n",
              "         'algorithms': 7,\n",
              "         'reflect': 1,\n",
              "         '\"': 4,\n",
              "         'discrimination': 1,\n",
              "         'This': 1,\n",
              "         'has': 4,\n",
              "         'only': 1,\n",
              "         'recently': 1,\n",
              "         'been': 3,\n",
              "         'addressed': 1,\n",
              "         'legal': 1,\n",
              "         'frameworks': 1,\n",
              "         '2018': 1,\n",
              "         'European': 1,\n",
              "         'Union': 1,\n",
              "         \"'s\": 2,\n",
              "         'General': 1,\n",
              "         'Data': 1,\n",
              "         'Protection': 1,\n",
              "         'Regulation': 1,\n",
              "         'More': 1,\n",
              "         'comprehensive': 1,\n",
              "         'regulation': 1,\n",
              "         'needed': 1,\n",
              "         'emerging': 1,\n",
              "         'technologies': 1,\n",
              "         'become': 2,\n",
              "         'increasingly': 1,\n",
              "         'advanced': 1,\n",
              "         'opaque': 1,\n",
              "         '\\n\\n': 2,\n",
              "         'As': 1,\n",
              "         'expand': 1,\n",
              "         'their': 4,\n",
              "         'ability': 1,\n",
              "         'organize': 1,\n",
              "         'society': 1,\n",
              "         'politics': 1,\n",
              "         'institutions': 1,\n",
              "         'behavior': 1,\n",
              "         'sociologists': 1,\n",
              "         'ways': 2,\n",
              "         'which': 2,\n",
              "         'output': 2,\n",
              "         'manipulation': 1,\n",
              "         'impact': 1,\n",
              "         'physical': 1,\n",
              "         'world': 1,\n",
              "         'Because': 1,\n",
              "         'are': 3,\n",
              "         'often': 1,\n",
              "         'considered': 2,\n",
              "         'be': 2,\n",
              "         'neutral': 1,\n",
              "         'unbiased': 1,\n",
              "         'they': 1,\n",
              "         'inaccurately': 1,\n",
              "         'project': 1,\n",
              "         'greater': 1,\n",
              "         'authority': 1,\n",
              "         'than': 1,\n",
              "         'human': 2,\n",
              "         'expertise': 1,\n",
              "         'some': 1,\n",
              "         'cases': 3,\n",
              "         'reliance': 1,\n",
              "         'on': 1,\n",
              "         'displace': 1,\n",
              "         'responsibility': 1,\n",
              "         'for': 2,\n",
              "         'enter': 1,\n",
              "         'into': 1,\n",
              "         'systems': 1,\n",
              "         'result': 1,\n",
              "         'pre': 1,\n",
              "         '-': 2,\n",
              "         'existing': 2,\n",
              "         'cultural': 1,\n",
              "         'institutional': 1,\n",
              "         'expectations': 1,\n",
              "         ';': 2,\n",
              "         'because': 1,\n",
              "         'technical': 1,\n",
              "         'limitations': 1,\n",
              "         'by': 2,\n",
              "         'being': 1,\n",
              "         'contexts': 1,\n",
              "         'audiences': 1,\n",
              "         'who': 1,\n",
              "         'software': 1,\n",
              "         'initial': 1,\n",
              "         'cited': 1,\n",
              "         'election': 1,\n",
              "         'spread': 1,\n",
              "         'online': 1,\n",
              "         'hate': 1,\n",
              "         'speech': 1,\n",
              "         'It': 1,\n",
              "         'also': 1,\n",
              "         'arisen': 1,\n",
              "         'criminal': 1,\n",
              "         'justice': 1,\n",
              "         'healthcare': 1,\n",
              "         'hiring': 1,\n",
              "         'compounding': 1,\n",
              "         'racial': 1,\n",
              "         'economic': 1,\n",
              "         'relative': 1,\n",
              "         'inability': 1,\n",
              "         'facial': 1,\n",
              "         'recognition': 1,\n",
              "         'technology': 1,\n",
              "         'accurately': 1,\n",
              "         'identify': 1,\n",
              "         'darker': 1,\n",
              "         'skinned': 1,\n",
              "         'faces': 1,\n",
              "         'linked': 1,\n",
              "         'multiple': 1,\n",
              "         'wrongful': 1,\n",
              "         'arrests': 1,\n",
              "         'men': 1,\n",
              "         'color': 1,\n",
              "         'an': 1,\n",
              "         'issue': 1,\n",
              "         'stemming': 1,\n",
              "         'imbalanced': 1,\n",
              "         'datasets': 1,\n",
              "         'Problems': 1,\n",
              "         'understanding': 2,\n",
              "         'researching': 1,\n",
              "         'discovering': 1,\n",
              "         'persist': 1,\n",
              "         'proprietary': 1,\n",
              "         'nature': 1,\n",
              "         'typically': 1,\n",
              "         'treated': 1,\n",
              "         'trade': 1,\n",
              "         'secrets': 1,\n",
              "         'Even': 1,\n",
              "         'when': 1,\n",
              "         'full': 1,\n",
              "         'transparency': 1,\n",
              "         'provided': 1,\n",
              "         'complexity': 1,\n",
              "         'certain': 1,\n",
              "         'poses': 1,\n",
              "         'barrier': 1,\n",
              "         'functioning': 1,\n",
              "         'Furthermore': 1,\n",
              "         'may': 1,\n",
              "         'change': 1,\n",
              "         'respond': 1,\n",
              "         'input': 1,\n",
              "         'anticipated': 1,\n",
              "         'easily': 1,\n",
              "         'reproduced': 1,\n",
              "         'analysis': 1,\n",
              "         'In': 1,\n",
              "         'even': 2,\n",
              "         'within': 1,\n",
              "         'single': 2,\n",
              "         'website': 1,\n",
              "         'application': 1,\n",
              "         'there': 1,\n",
              "         'no': 1,\n",
              "         'examine': 1,\n",
              "         'network': 1,\n",
              "         'interrelated': 1,\n",
              "         'programs': 1,\n",
              "         'inputs': 1,\n",
              "         'between': 1,\n",
              "         'same': 1,\n",
              "         'service': 1})"
            ]
          },
          "metadata": {},
          "execution_count": 19
        }
      ]
    },
    {
      "cell_type": "code",
      "source": [],
      "metadata": {
        "id": "cxCTX7h8NbdQ"
      },
      "execution_count": null,
      "outputs": []
    },
    {
      "cell_type": "code",
      "source": [
        "# verificando os dez mais comuns\n",
        "counts.most_common(10)"
      ],
      "metadata": {
        "colab": {
          "base_uri": "https://localhost:8080/"
        },
        "id": "J8NSBw8ETSy_",
        "outputId": "87445496-3ab3-4f86-a3a8-0d64d02530b8"
      },
      "execution_count": null,
      "outputs": [
        {
          "output_type": "execute_result",
          "data": {
            "text/plain": [
              "[(',', 35),\n",
              " ('of', 16),\n",
              " ('.', 16),\n",
              " ('to', 15),\n",
              " ('and', 14),\n",
              " ('\\n', 14),\n",
              " ('the', 13),\n",
              " ('or', 11),\n",
              " ('in', 10),\n",
              " ('can', 7)]"
            ]
          },
          "metadata": {},
          "execution_count": 20
        }
      ]
    },
    {
      "cell_type": "code",
      "source": [
        "# olhando os tokens menos comuns pode ser mais util\n",
        "counts.most_common()[-5:]"
      ],
      "metadata": {
        "colab": {
          "base_uri": "https://localhost:8080/"
        },
        "id": "y3iuVjC1Np-E",
        "outputId": "ca5f5feb-a19d-4326-82b2-3dfe730876fb"
      },
      "execution_count": null,
      "outputs": [
        {
          "output_type": "execute_result",
          "data": {
            "text/plain": [
              "[('programs', 1), ('inputs', 1), ('between', 1), ('same', 1), ('service', 1)]"
            ]
          },
          "metadata": {},
          "execution_count": 21
        }
      ]
    },
    {
      "cell_type": "code",
      "source": [],
      "metadata": {
        "id": "2pjtHJgmNxsr"
      },
      "execution_count": null,
      "outputs": []
    },
    {
      "cell_type": "code",
      "source": [
        "# processamento do texto em linhas não vazias\n",
        "docs = [nlp(s) for s in bias_intro.split('\\n') if s.strip()]\n",
        "counts = []\n",
        "\n",
        "for doc in docs:\n",
        "  counts.append(Counter([t.text.lower() for t in doc])) # para cada token no documento, extrai o texto em minuscula e adiciona na lista\n",
        "\n",
        "# criação de um dataframe a partir das contagens\n",
        "df = pd.DataFrame(counts)\n",
        "\n",
        "# preenchimento de valores ausentes e conversão de tipos\n",
        "df = df.fillna(0).astype(int) # substitui valores ausentes (NaN) por 0, e converte para o tipo inteiro\n",
        "len(df)"
      ],
      "metadata": {
        "id": "949TSAQaKO89",
        "colab": {
          "base_uri": "https://localhost:8080/"
        },
        "outputId": "6bf26c8e-ad40-4cdd-d45f-062cea344891"
      },
      "execution_count": null,
      "outputs": [
        {
          "output_type": "execute_result",
          "data": {
            "text/plain": [
              "16"
            ]
          },
          "metadata": {},
          "execution_count": 22
        }
      ]
    },
    {
      "cell_type": "code",
      "source": [],
      "metadata": {
        "id": "xOlWfeaOOGJz"
      },
      "execution_count": null,
      "outputs": []
    },
    {
      "cell_type": "markdown",
      "source": [
        "* `bias_intro.split('\\n')`: Divide ot texto bias_intro em linhas usando a quebra de linha como delimitador\n",
        "\n",
        "* `if s.strip()`: filtra as linhas não vazias, garantindo que linhas contendo apenas espaços em brancos sejam ignoradas.\n",
        "\n",
        "\n",
        "Em resumo, este código usa o spaCy para processar linhas não vazias de um arquivo de texto, realiza a contagem de ocorrências de palavras em cada linha e armazena essas contagens em um DataFrame Pandas. O resultado é um DataFrame que mostra a distribuição de palavras em cada linha do texto."
      ],
      "metadata": {
        "id": "OK6VUGY2T1yP"
      }
    },
    {
      "cell_type": "code",
      "source": [
        "df.head()"
      ],
      "metadata": {
        "id": "sb9tYuajP_Pk",
        "colab": {
          "base_uri": "https://localhost:8080/",
          "height": 255
        },
        "outputId": "91b61489-8063-4bed-c21c-d9b7ca3784b0"
      },
      "execution_count": null,
      "outputs": [
        {
          "output_type": "execute_result",
          "data": {
            "text/plain": [
              "   algorithmic  bias  describes  systematic  and  repeatable  errors  in  a  \\\n",
              "0            1     1          1           1    1           1       1   1  1   \n",
              "1            0     1          0           0    0           0       0   0  0   \n",
              "2            1     1          0           0    3           0       0   0  0   \n",
              "3            1     1          0           1    1           0       0   0  0   \n",
              "4            0     1          0           0    0           0       0   1  0   \n",
              "\n",
              "   computer  ...  there  no  examine  network  interrelated  programs  inputs  \\\n",
              "0         1  ...      0   0        0        0             0         0       0   \n",
              "1         0  ...      0   0        0        0             0         0       0   \n",
              "2         0  ...      0   0        0        0             0         0       0   \n",
              "3         0  ...      0   0        0        0             0         0       0   \n",
              "4         0  ...      0   0        0        0             0         0       0   \n",
              "\n",
              "   between  same  service  \n",
              "0        0     0        0  \n",
              "1        0     0        0  \n",
              "2        0     0        0  \n",
              "3        0     0        0  \n",
              "4        0     0        0  \n",
              "\n",
              "[5 rows x 246 columns]"
            ],
            "text/html": [
              "\n",
              "  <div id=\"df-840c44b7-085d-48f8-a9a7-44890302786d\" class=\"colab-df-container\">\n",
              "    <div>\n",
              "<style scoped>\n",
              "    .dataframe tbody tr th:only-of-type {\n",
              "        vertical-align: middle;\n",
              "    }\n",
              "\n",
              "    .dataframe tbody tr th {\n",
              "        vertical-align: top;\n",
              "    }\n",
              "\n",
              "    .dataframe thead th {\n",
              "        text-align: right;\n",
              "    }\n",
              "</style>\n",
              "<table border=\"1\" class=\"dataframe\">\n",
              "  <thead>\n",
              "    <tr style=\"text-align: right;\">\n",
              "      <th></th>\n",
              "      <th>algorithmic</th>\n",
              "      <th>bias</th>\n",
              "      <th>describes</th>\n",
              "      <th>systematic</th>\n",
              "      <th>and</th>\n",
              "      <th>repeatable</th>\n",
              "      <th>errors</th>\n",
              "      <th>in</th>\n",
              "      <th>a</th>\n",
              "      <th>computer</th>\n",
              "      <th>...</th>\n",
              "      <th>there</th>\n",
              "      <th>no</th>\n",
              "      <th>examine</th>\n",
              "      <th>network</th>\n",
              "      <th>interrelated</th>\n",
              "      <th>programs</th>\n",
              "      <th>inputs</th>\n",
              "      <th>between</th>\n",
              "      <th>same</th>\n",
              "      <th>service</th>\n",
              "    </tr>\n",
              "  </thead>\n",
              "  <tbody>\n",
              "    <tr>\n",
              "      <th>0</th>\n",
              "      <td>1</td>\n",
              "      <td>1</td>\n",
              "      <td>1</td>\n",
              "      <td>1</td>\n",
              "      <td>1</td>\n",
              "      <td>1</td>\n",
              "      <td>1</td>\n",
              "      <td>1</td>\n",
              "      <td>1</td>\n",
              "      <td>1</td>\n",
              "      <td>...</td>\n",
              "      <td>0</td>\n",
              "      <td>0</td>\n",
              "      <td>0</td>\n",
              "      <td>0</td>\n",
              "      <td>0</td>\n",
              "      <td>0</td>\n",
              "      <td>0</td>\n",
              "      <td>0</td>\n",
              "      <td>0</td>\n",
              "      <td>0</td>\n",
              "    </tr>\n",
              "    <tr>\n",
              "      <th>1</th>\n",
              "      <td>0</td>\n",
              "      <td>1</td>\n",
              "      <td>0</td>\n",
              "      <td>0</td>\n",
              "      <td>0</td>\n",
              "      <td>0</td>\n",
              "      <td>0</td>\n",
              "      <td>0</td>\n",
              "      <td>0</td>\n",
              "      <td>0</td>\n",
              "      <td>...</td>\n",
              "      <td>0</td>\n",
              "      <td>0</td>\n",
              "      <td>0</td>\n",
              "      <td>0</td>\n",
              "      <td>0</td>\n",
              "      <td>0</td>\n",
              "      <td>0</td>\n",
              "      <td>0</td>\n",
              "      <td>0</td>\n",
              "      <td>0</td>\n",
              "    </tr>\n",
              "    <tr>\n",
              "      <th>2</th>\n",
              "      <td>1</td>\n",
              "      <td>1</td>\n",
              "      <td>0</td>\n",
              "      <td>0</td>\n",
              "      <td>3</td>\n",
              "      <td>0</td>\n",
              "      <td>0</td>\n",
              "      <td>0</td>\n",
              "      <td>0</td>\n",
              "      <td>0</td>\n",
              "      <td>...</td>\n",
              "      <td>0</td>\n",
              "      <td>0</td>\n",
              "      <td>0</td>\n",
              "      <td>0</td>\n",
              "      <td>0</td>\n",
              "      <td>0</td>\n",
              "      <td>0</td>\n",
              "      <td>0</td>\n",
              "      <td>0</td>\n",
              "      <td>0</td>\n",
              "    </tr>\n",
              "    <tr>\n",
              "      <th>3</th>\n",
              "      <td>1</td>\n",
              "      <td>1</td>\n",
              "      <td>0</td>\n",
              "      <td>1</td>\n",
              "      <td>1</td>\n",
              "      <td>0</td>\n",
              "      <td>0</td>\n",
              "      <td>0</td>\n",
              "      <td>0</td>\n",
              "      <td>0</td>\n",
              "      <td>...</td>\n",
              "      <td>0</td>\n",
              "      <td>0</td>\n",
              "      <td>0</td>\n",
              "      <td>0</td>\n",
              "      <td>0</td>\n",
              "      <td>0</td>\n",
              "      <td>0</td>\n",
              "      <td>0</td>\n",
              "      <td>0</td>\n",
              "      <td>0</td>\n",
              "    </tr>\n",
              "    <tr>\n",
              "      <th>4</th>\n",
              "      <td>0</td>\n",
              "      <td>1</td>\n",
              "      <td>0</td>\n",
              "      <td>0</td>\n",
              "      <td>0</td>\n",
              "      <td>0</td>\n",
              "      <td>0</td>\n",
              "      <td>1</td>\n",
              "      <td>0</td>\n",
              "      <td>0</td>\n",
              "      <td>...</td>\n",
              "      <td>0</td>\n",
              "      <td>0</td>\n",
              "      <td>0</td>\n",
              "      <td>0</td>\n",
              "      <td>0</td>\n",
              "      <td>0</td>\n",
              "      <td>0</td>\n",
              "      <td>0</td>\n",
              "      <td>0</td>\n",
              "      <td>0</td>\n",
              "    </tr>\n",
              "  </tbody>\n",
              "</table>\n",
              "<p>5 rows × 246 columns</p>\n",
              "</div>\n",
              "    <div class=\"colab-df-buttons\">\n",
              "\n",
              "  <div class=\"colab-df-container\">\n",
              "    <button class=\"colab-df-convert\" onclick=\"convertToInteractive('df-840c44b7-085d-48f8-a9a7-44890302786d')\"\n",
              "            title=\"Convert this dataframe to an interactive table.\"\n",
              "            style=\"display:none;\">\n",
              "\n",
              "  <svg xmlns=\"http://www.w3.org/2000/svg\" height=\"24px\" viewBox=\"0 -960 960 960\">\n",
              "    <path d=\"M120-120v-720h720v720H120Zm60-500h600v-160H180v160Zm220 220h160v-160H400v160Zm0 220h160v-160H400v160ZM180-400h160v-160H180v160Zm440 0h160v-160H620v160ZM180-180h160v-160H180v160Zm440 0h160v-160H620v160Z\"/>\n",
              "  </svg>\n",
              "    </button>\n",
              "\n",
              "  <style>\n",
              "    .colab-df-container {\n",
              "      display:flex;\n",
              "      gap: 12px;\n",
              "    }\n",
              "\n",
              "    .colab-df-convert {\n",
              "      background-color: #E8F0FE;\n",
              "      border: none;\n",
              "      border-radius: 50%;\n",
              "      cursor: pointer;\n",
              "      display: none;\n",
              "      fill: #1967D2;\n",
              "      height: 32px;\n",
              "      padding: 0 0 0 0;\n",
              "      width: 32px;\n",
              "    }\n",
              "\n",
              "    .colab-df-convert:hover {\n",
              "      background-color: #E2EBFA;\n",
              "      box-shadow: 0px 1px 2px rgba(60, 64, 67, 0.3), 0px 1px 3px 1px rgba(60, 64, 67, 0.15);\n",
              "      fill: #174EA6;\n",
              "    }\n",
              "\n",
              "    .colab-df-buttons div {\n",
              "      margin-bottom: 4px;\n",
              "    }\n",
              "\n",
              "    [theme=dark] .colab-df-convert {\n",
              "      background-color: #3B4455;\n",
              "      fill: #D2E3FC;\n",
              "    }\n",
              "\n",
              "    [theme=dark] .colab-df-convert:hover {\n",
              "      background-color: #434B5C;\n",
              "      box-shadow: 0px 1px 3px 1px rgba(0, 0, 0, 0.15);\n",
              "      filter: drop-shadow(0px 1px 2px rgba(0, 0, 0, 0.3));\n",
              "      fill: #FFFFFF;\n",
              "    }\n",
              "  </style>\n",
              "\n",
              "    <script>\n",
              "      const buttonEl =\n",
              "        document.querySelector('#df-840c44b7-085d-48f8-a9a7-44890302786d button.colab-df-convert');\n",
              "      buttonEl.style.display =\n",
              "        google.colab.kernel.accessAllowed ? 'block' : 'none';\n",
              "\n",
              "      async function convertToInteractive(key) {\n",
              "        const element = document.querySelector('#df-840c44b7-085d-48f8-a9a7-44890302786d');\n",
              "        const dataTable =\n",
              "          await google.colab.kernel.invokeFunction('convertToInteractive',\n",
              "                                                    [key], {});\n",
              "        if (!dataTable) return;\n",
              "\n",
              "        const docLinkHtml = 'Like what you see? Visit the ' +\n",
              "          '<a target=\"_blank\" href=https://colab.research.google.com/notebooks/data_table.ipynb>data table notebook</a>'\n",
              "          + ' to learn more about interactive tables.';\n",
              "        element.innerHTML = '';\n",
              "        dataTable['output_type'] = 'display_data';\n",
              "        await google.colab.output.renderOutput(dataTable, element);\n",
              "        const docLink = document.createElement('div');\n",
              "        docLink.innerHTML = docLinkHtml;\n",
              "        element.appendChild(docLink);\n",
              "      }\n",
              "    </script>\n",
              "  </div>\n",
              "\n",
              "\n",
              "<div id=\"df-c14be8ea-5cc4-46ec-a10e-77958562548d\">\n",
              "  <button class=\"colab-df-quickchart\" onclick=\"quickchart('df-c14be8ea-5cc4-46ec-a10e-77958562548d')\"\n",
              "            title=\"Suggest charts\"\n",
              "            style=\"display:none;\">\n",
              "\n",
              "<svg xmlns=\"http://www.w3.org/2000/svg\" height=\"24px\"viewBox=\"0 0 24 24\"\n",
              "     width=\"24px\">\n",
              "    <g>\n",
              "        <path d=\"M19 3H5c-1.1 0-2 .9-2 2v14c0 1.1.9 2 2 2h14c1.1 0 2-.9 2-2V5c0-1.1-.9-2-2-2zM9 17H7v-7h2v7zm4 0h-2V7h2v10zm4 0h-2v-4h2v4z\"/>\n",
              "    </g>\n",
              "</svg>\n",
              "  </button>\n",
              "\n",
              "<style>\n",
              "  .colab-df-quickchart {\n",
              "      --bg-color: #E8F0FE;\n",
              "      --fill-color: #1967D2;\n",
              "      --hover-bg-color: #E2EBFA;\n",
              "      --hover-fill-color: #174EA6;\n",
              "      --disabled-fill-color: #AAA;\n",
              "      --disabled-bg-color: #DDD;\n",
              "  }\n",
              "\n",
              "  [theme=dark] .colab-df-quickchart {\n",
              "      --bg-color: #3B4455;\n",
              "      --fill-color: #D2E3FC;\n",
              "      --hover-bg-color: #434B5C;\n",
              "      --hover-fill-color: #FFFFFF;\n",
              "      --disabled-bg-color: #3B4455;\n",
              "      --disabled-fill-color: #666;\n",
              "  }\n",
              "\n",
              "  .colab-df-quickchart {\n",
              "    background-color: var(--bg-color);\n",
              "    border: none;\n",
              "    border-radius: 50%;\n",
              "    cursor: pointer;\n",
              "    display: none;\n",
              "    fill: var(--fill-color);\n",
              "    height: 32px;\n",
              "    padding: 0;\n",
              "    width: 32px;\n",
              "  }\n",
              "\n",
              "  .colab-df-quickchart:hover {\n",
              "    background-color: var(--hover-bg-color);\n",
              "    box-shadow: 0 1px 2px rgba(60, 64, 67, 0.3), 0 1px 3px 1px rgba(60, 64, 67, 0.15);\n",
              "    fill: var(--button-hover-fill-color);\n",
              "  }\n",
              "\n",
              "  .colab-df-quickchart-complete:disabled,\n",
              "  .colab-df-quickchart-complete:disabled:hover {\n",
              "    background-color: var(--disabled-bg-color);\n",
              "    fill: var(--disabled-fill-color);\n",
              "    box-shadow: none;\n",
              "  }\n",
              "\n",
              "  .colab-df-spinner {\n",
              "    border: 2px solid var(--fill-color);\n",
              "    border-color: transparent;\n",
              "    border-bottom-color: var(--fill-color);\n",
              "    animation:\n",
              "      spin 1s steps(1) infinite;\n",
              "  }\n",
              "\n",
              "  @keyframes spin {\n",
              "    0% {\n",
              "      border-color: transparent;\n",
              "      border-bottom-color: var(--fill-color);\n",
              "      border-left-color: var(--fill-color);\n",
              "    }\n",
              "    20% {\n",
              "      border-color: transparent;\n",
              "      border-left-color: var(--fill-color);\n",
              "      border-top-color: var(--fill-color);\n",
              "    }\n",
              "    30% {\n",
              "      border-color: transparent;\n",
              "      border-left-color: var(--fill-color);\n",
              "      border-top-color: var(--fill-color);\n",
              "      border-right-color: var(--fill-color);\n",
              "    }\n",
              "    40% {\n",
              "      border-color: transparent;\n",
              "      border-right-color: var(--fill-color);\n",
              "      border-top-color: var(--fill-color);\n",
              "    }\n",
              "    60% {\n",
              "      border-color: transparent;\n",
              "      border-right-color: var(--fill-color);\n",
              "    }\n",
              "    80% {\n",
              "      border-color: transparent;\n",
              "      border-right-color: var(--fill-color);\n",
              "      border-bottom-color: var(--fill-color);\n",
              "    }\n",
              "    90% {\n",
              "      border-color: transparent;\n",
              "      border-bottom-color: var(--fill-color);\n",
              "    }\n",
              "  }\n",
              "</style>\n",
              "\n",
              "  <script>\n",
              "    async function quickchart(key) {\n",
              "      const quickchartButtonEl =\n",
              "        document.querySelector('#' + key + ' button');\n",
              "      quickchartButtonEl.disabled = true;  // To prevent multiple clicks.\n",
              "      quickchartButtonEl.classList.add('colab-df-spinner');\n",
              "      try {\n",
              "        const charts = await google.colab.kernel.invokeFunction(\n",
              "            'suggestCharts', [key], {});\n",
              "      } catch (error) {\n",
              "        console.error('Error during call to suggestCharts:', error);\n",
              "      }\n",
              "      quickchartButtonEl.classList.remove('colab-df-spinner');\n",
              "      quickchartButtonEl.classList.add('colab-df-quickchart-complete');\n",
              "    }\n",
              "    (() => {\n",
              "      let quickchartButtonEl =\n",
              "        document.querySelector('#df-c14be8ea-5cc4-46ec-a10e-77958562548d button');\n",
              "      quickchartButtonEl.style.display =\n",
              "        google.colab.kernel.accessAllowed ? 'block' : 'none';\n",
              "    })();\n",
              "  </script>\n",
              "</div>\n",
              "\n",
              "    </div>\n",
              "  </div>\n"
            ]
          },
          "metadata": {},
          "execution_count": 23
        }
      ]
    },
    {
      "cell_type": "code",
      "source": [
        "df.iloc[10]"
      ],
      "metadata": {
        "id": "NKJaYHXaQAfV",
        "colab": {
          "base_uri": "https://localhost:8080/"
        },
        "outputId": "d2a2755c-bcb1-4e8e-c68b-43afb5850973"
      },
      "execution_count": null,
      "outputs": [
        {
          "output_type": "execute_result",
          "data": {
            "text/plain": [
              "algorithmic    0\n",
              "bias           0\n",
              "describes      0\n",
              "systematic     0\n",
              "and            2\n",
              "              ..\n",
              "programs       0\n",
              "inputs         0\n",
              "between        0\n",
              "same           0\n",
              "service        0\n",
              "Name: 10, Length: 246, dtype: int64"
            ]
          },
          "metadata": {},
          "execution_count": 24
        }
      ]
    },
    {
      "cell_type": "code",
      "source": [
        "# criação da lista docs_tokens\n",
        "docs_tokens = []\n",
        "\n",
        "# extração de tokens\n",
        "for doc in docs:\n",
        "  docs_tokens.append([tok.text.lower() for tok in nlp(doc.text)]) # Para cada token no documento, extrai o texto do token em minusculas e adiciona a lista\n",
        "\n",
        "len(docs_tokens[0])"
      ],
      "metadata": {
        "colab": {
          "base_uri": "https://localhost:8080/"
        },
        "id": "GlQz2Nm6Lx6S",
        "outputId": "9005ca1d-7aad-44cc-f693-da0540487c97"
      },
      "execution_count": null,
      "outputs": [
        {
          "output_type": "execute_result",
          "data": {
            "text/plain": [
              "27"
            ]
          },
          "metadata": {},
          "execution_count": 25
        }
      ]
    },
    {
      "cell_type": "markdown",
      "source": [
        "Em resumo, este código cria uma lista chamada docs_tokens, onde cada elemento é uma lista de tokens de um documento processado. Em seguida, o código exibe o número de tokens no primeiro documento processado. Esse tipo de manipulação de tokens pode ser útil para análise de texto, contagem de palavras ou outras tarefas relacionadas ao processamento de linguagem natural.\n",
        "\n",
        "\n",
        "\n",
        "\n",
        "\n",
        "\n"
      ],
      "metadata": {
        "id": "EynsCxtkNCnb"
      }
    },
    {
      "cell_type": "code",
      "source": [
        "all_doc_tokens = [] # inicializa uma lista vazia que será usada para armazenar todos os tokens de todos os documentos\n",
        "\n",
        "# adição de tokens\n",
        "for tokens in docs_tokens:\n",
        "  # adiciona todos os elementos da lista de tokens atual\n",
        "  all_doc_tokens.extend(tokens) # extend é utilizado para adicionar os elementos individualmente\n",
        "\n",
        "len(all_doc_tokens) # comprimento total de tokens"
      ],
      "metadata": {
        "colab": {
          "base_uri": "https://localhost:8080/"
        },
        "id": "eOri9BPnMjKx",
        "outputId": "70d15555-40b2-4986-a4e8-b626c0535f6e"
      },
      "execution_count": null,
      "outputs": [
        {
          "output_type": "execute_result",
          "data": {
            "text/plain": [
              "482"
            ]
          },
          "metadata": {},
          "execution_count": 26
        }
      ]
    },
    {
      "cell_type": "markdown",
      "source": [
        "Seu léxico ou vocabulário é uma lista de todos os tokens exclusivos do seu corpus"
      ],
      "metadata": {
        "id": "8GKwM6L4OubF"
      }
    },
    {
      "cell_type": "code",
      "source": [
        "# criação do conjunto de vocabulário\n",
        "vocab = set(all_doc_tokens) # cria um conjunto contendo elementos unicos, dado que um conjunto não permite duplicatas\n",
        "\n",
        "# Ordenação do vocabulário\n",
        "vocab = sorted(vocab) # ordena as palavras unicas no vocab em ordem alfabetica\n",
        "\n",
        "# exibição do tamanho do vocab\n",
        "len(vocab)\n",
        "\n",
        "# relação entre o numero total de tokens e o tamanho do vocab:\n",
        "len(all_doc_tokens) / len(vocab)"
      ],
      "metadata": {
        "colab": {
          "base_uri": "https://localhost:8080/"
        },
        "id": "8UHT9CYJM38R",
        "outputId": "63f62336-f183-441c-ea30-0ca5ea3d4796"
      },
      "execution_count": null,
      "outputs": [
        {
          "output_type": "execute_result",
          "data": {
            "text/plain": [
              "1.9593495934959348"
            ]
          },
          "metadata": {},
          "execution_count": 27
        }
      ]
    },
    {
      "cell_type": "markdown",
      "source": [
        "Em resumo, este código cria um vocabulário único a partir de uma lista de tokens, ordena esse vocabulário e exibe o tamanho do vocabulário. Além disso, ele calcula a média de quantas vezes uma palavra única é usada em média nos documentos, fornecendo uma métrica de diversidade lexical."
      ],
      "metadata": {
        "id": "Cyy8mkbHPr7s"
      }
    },
    {
      "cell_type": "code",
      "source": [
        "# exibição do tamanho do vocabulario\n",
        "len(vocab) # numero total de palavras unicas presentes nos documentos"
      ],
      "metadata": {
        "colab": {
          "base_uri": "https://localhost:8080/"
        },
        "id": "bqG2rPGwP--z",
        "outputId": "1bca3ecd-71e6-4f20-c25a-b9c218226413"
      },
      "execution_count": null,
      "outputs": [
        {
          "output_type": "execute_result",
          "data": {
            "text/plain": [
              "246"
            ]
          },
          "metadata": {},
          "execution_count": 28
        }
      ]
    },
    {
      "cell_type": "code",
      "source": [
        "vocab[:10]"
      ],
      "metadata": {
        "colab": {
          "base_uri": "https://localhost:8080/"
        },
        "id": "NqQJTyIaNyop",
        "outputId": "26c3c46c-0880-454d-d8bb-22879ed84172"
      },
      "execution_count": null,
      "outputs": [
        {
          "output_type": "execute_result",
          "data": {
            "text/plain": [
              "['\"', \"'s\", ',', '-', '.', '2018', ';', 'a', 'ability', 'accurately']"
            ]
          },
          "metadata": {},
          "execution_count": 29
        }
      ]
    },
    {
      "cell_type": "code",
      "source": [
        "# inicialização da lista\n",
        "count_vectors = []\n",
        "\n",
        "# criação de vetores de contagem para cada documento\n",
        "for tokens in docs_tokens:\n",
        "  count_vectors.append(Counter(tokens)) # Para cada lista de tokens em um documento, cria um objeto counter que conta a ocorrência de cada palavra na lista\n",
        "\n",
        "# criação do dataframe pandas\n",
        "tf = pd.DataFrame(count_vectors)\n",
        "\n",
        "# transposição e ordenação do DataFrame\n",
        "tf = tf.T.sort_index().T # tf.T -> substitui linhas por colunas, ordenas as colunas em ordem alfabetica, e depois volta a posição origional (WTF)\n",
        "\n",
        "# preenchimento de valores ausentes e conversão de tipos\n",
        "tf = tf.fillna(0).astype(int)\n",
        "\n",
        "# exibição da matriz de contagem\n",
        "tf\n",
        "\n"
      ],
      "metadata": {
        "colab": {
          "base_uri": "https://localhost:8080/",
          "height": 600
        },
        "id": "qUxHh6v0P2yC",
        "outputId": "158c4aa6-82ee-449f-e105-7cd047094bb1"
      },
      "execution_count": null,
      "outputs": [
        {
          "output_type": "execute_result",
          "data": {
            "text/plain": [
              "    \"  's  ,  -  .  2018  ;  a  ability  accurately  ...  way  ways  website  \\\n",
              "0   0   0  1  0  1     0  0  1        0           0  ...    0     0        0   \n",
              "1   0   0  3  0  1     0  0  0        0           0  ...    1     0        0   \n",
              "2   0   0  5  0  1     0  0  0        0           0  ...    0     0        0   \n",
              "3   2   0  0  0  1     0  0  0        0           0  ...    0     0        0   \n",
              "4   0   1  1  0  1     1  0  0        0           0  ...    0     0        0   \n",
              "5   0   0  0  0  1     0  0  0        0           0  ...    0     0        0   \n",
              "6   0   0  4  0  1     0  0  0        1           0  ...    0     1        0   \n",
              "7   0   0  3  0  1     0  0  0        0           0  ...    0     0        0   \n",
              "8   0   1  2  1  1     0  2  1        0           0  ...    0     0        0   \n",
              "9   0   0  0  0  1     0  0  0        0           0  ...    0     0        0   \n",
              "10  0   0  5  0  1     0  0  0        0           0  ...    0     0        0   \n",
              "11  0   0  1  1  1     0  0  0        0           1  ...    0     0        0   \n",
              "12  0   0  3  0  1     0  0  0        0           0  ...    0     0        0   \n",
              "13  0   0  1  0  1     0  0  1        0           0  ...    0     0        0   \n",
              "14  0   0  2  0  1     0  0  0        0           0  ...    0     1        0   \n",
              "15  2   0  4  0  1     0  0  2        0           0  ...    0     0        1   \n",
              "\n",
              "    when  which  who  with  within  world  wrongful  \n",
              "0      0      0    0     0       0      0         0  \n",
              "1      0      0    0     0       0      0         0  \n",
              "2      0      0    0     0       0      0         0  \n",
              "3      0      0    0     1       0      0         0  \n",
              "4      0      0    0     0       0      0         0  \n",
              "5      0      0    0     0       0      0         0  \n",
              "6      0      1    0     1       0      1         0  \n",
              "7      0      0    0     0       0      0         0  \n",
              "8      0      0    1     0       0      0         0  \n",
              "9      0      0    0     0       0      0         0  \n",
              "10     0      0    0     0       0      0         0  \n",
              "11     0      0    0     0       0      0         1  \n",
              "12     0      1    0     0       0      0         0  \n",
              "13     1      0    0     0       0      0         0  \n",
              "14     0      0    0     0       0      0         0  \n",
              "15     0      0    0     0       1      0         0  \n",
              "\n",
              "[16 rows x 246 columns]"
            ],
            "text/html": [
              "\n",
              "  <div id=\"df-4e208f2d-eb3d-44cb-af5b-c143176e8fff\" class=\"colab-df-container\">\n",
              "    <div>\n",
              "<style scoped>\n",
              "    .dataframe tbody tr th:only-of-type {\n",
              "        vertical-align: middle;\n",
              "    }\n",
              "\n",
              "    .dataframe tbody tr th {\n",
              "        vertical-align: top;\n",
              "    }\n",
              "\n",
              "    .dataframe thead th {\n",
              "        text-align: right;\n",
              "    }\n",
              "</style>\n",
              "<table border=\"1\" class=\"dataframe\">\n",
              "  <thead>\n",
              "    <tr style=\"text-align: right;\">\n",
              "      <th></th>\n",
              "      <th>\"</th>\n",
              "      <th>'s</th>\n",
              "      <th>,</th>\n",
              "      <th>-</th>\n",
              "      <th>.</th>\n",
              "      <th>2018</th>\n",
              "      <th>;</th>\n",
              "      <th>a</th>\n",
              "      <th>ability</th>\n",
              "      <th>accurately</th>\n",
              "      <th>...</th>\n",
              "      <th>way</th>\n",
              "      <th>ways</th>\n",
              "      <th>website</th>\n",
              "      <th>when</th>\n",
              "      <th>which</th>\n",
              "      <th>who</th>\n",
              "      <th>with</th>\n",
              "      <th>within</th>\n",
              "      <th>world</th>\n",
              "      <th>wrongful</th>\n",
              "    </tr>\n",
              "  </thead>\n",
              "  <tbody>\n",
              "    <tr>\n",
              "      <th>0</th>\n",
              "      <td>0</td>\n",
              "      <td>0</td>\n",
              "      <td>1</td>\n",
              "      <td>0</td>\n",
              "      <td>1</td>\n",
              "      <td>0</td>\n",
              "      <td>0</td>\n",
              "      <td>1</td>\n",
              "      <td>0</td>\n",
              "      <td>0</td>\n",
              "      <td>...</td>\n",
              "      <td>0</td>\n",
              "      <td>0</td>\n",
              "      <td>0</td>\n",
              "      <td>0</td>\n",
              "      <td>0</td>\n",
              "      <td>0</td>\n",
              "      <td>0</td>\n",
              "      <td>0</td>\n",
              "      <td>0</td>\n",
              "      <td>0</td>\n",
              "    </tr>\n",
              "    <tr>\n",
              "      <th>1</th>\n",
              "      <td>0</td>\n",
              "      <td>0</td>\n",
              "      <td>3</td>\n",
              "      <td>0</td>\n",
              "      <td>1</td>\n",
              "      <td>0</td>\n",
              "      <td>0</td>\n",
              "      <td>0</td>\n",
              "      <td>0</td>\n",
              "      <td>0</td>\n",
              "      <td>...</td>\n",
              "      <td>1</td>\n",
              "      <td>0</td>\n",
              "      <td>0</td>\n",
              "      <td>0</td>\n",
              "      <td>0</td>\n",
              "      <td>0</td>\n",
              "      <td>0</td>\n",
              "      <td>0</td>\n",
              "      <td>0</td>\n",
              "      <td>0</td>\n",
              "    </tr>\n",
              "    <tr>\n",
              "      <th>2</th>\n",
              "      <td>0</td>\n",
              "      <td>0</td>\n",
              "      <td>5</td>\n",
              "      <td>0</td>\n",
              "      <td>1</td>\n",
              "      <td>0</td>\n",
              "      <td>0</td>\n",
              "      <td>0</td>\n",
              "      <td>0</td>\n",
              "      <td>0</td>\n",
              "      <td>...</td>\n",
              "      <td>0</td>\n",
              "      <td>0</td>\n",
              "      <td>0</td>\n",
              "      <td>0</td>\n",
              "      <td>0</td>\n",
              "      <td>0</td>\n",
              "      <td>0</td>\n",
              "      <td>0</td>\n",
              "      <td>0</td>\n",
              "      <td>0</td>\n",
              "    </tr>\n",
              "    <tr>\n",
              "      <th>3</th>\n",
              "      <td>2</td>\n",
              "      <td>0</td>\n",
              "      <td>0</td>\n",
              "      <td>0</td>\n",
              "      <td>1</td>\n",
              "      <td>0</td>\n",
              "      <td>0</td>\n",
              "      <td>0</td>\n",
              "      <td>0</td>\n",
              "      <td>0</td>\n",
              "      <td>...</td>\n",
              "      <td>0</td>\n",
              "      <td>0</td>\n",
              "      <td>0</td>\n",
              "      <td>0</td>\n",
              "      <td>0</td>\n",
              "      <td>0</td>\n",
              "      <td>1</td>\n",
              "      <td>0</td>\n",
              "      <td>0</td>\n",
              "      <td>0</td>\n",
              "    </tr>\n",
              "    <tr>\n",
              "      <th>4</th>\n",
              "      <td>0</td>\n",
              "      <td>1</td>\n",
              "      <td>1</td>\n",
              "      <td>0</td>\n",
              "      <td>1</td>\n",
              "      <td>1</td>\n",
              "      <td>0</td>\n",
              "      <td>0</td>\n",
              "      <td>0</td>\n",
              "      <td>0</td>\n",
              "      <td>...</td>\n",
              "      <td>0</td>\n",
              "      <td>0</td>\n",
              "      <td>0</td>\n",
              "      <td>0</td>\n",
              "      <td>0</td>\n",
              "      <td>0</td>\n",
              "      <td>0</td>\n",
              "      <td>0</td>\n",
              "      <td>0</td>\n",
              "      <td>0</td>\n",
              "    </tr>\n",
              "    <tr>\n",
              "      <th>5</th>\n",
              "      <td>0</td>\n",
              "      <td>0</td>\n",
              "      <td>0</td>\n",
              "      <td>0</td>\n",
              "      <td>1</td>\n",
              "      <td>0</td>\n",
              "      <td>0</td>\n",
              "      <td>0</td>\n",
              "      <td>0</td>\n",
              "      <td>0</td>\n",
              "      <td>...</td>\n",
              "      <td>0</td>\n",
              "      <td>0</td>\n",
              "      <td>0</td>\n",
              "      <td>0</td>\n",
              "      <td>0</td>\n",
              "      <td>0</td>\n",
              "      <td>0</td>\n",
              "      <td>0</td>\n",
              "      <td>0</td>\n",
              "      <td>0</td>\n",
              "    </tr>\n",
              "    <tr>\n",
              "      <th>6</th>\n",
              "      <td>0</td>\n",
              "      <td>0</td>\n",
              "      <td>4</td>\n",
              "      <td>0</td>\n",
              "      <td>1</td>\n",
              "      <td>0</td>\n",
              "      <td>0</td>\n",
              "      <td>0</td>\n",
              "      <td>1</td>\n",
              "      <td>0</td>\n",
              "      <td>...</td>\n",
              "      <td>0</td>\n",
              "      <td>1</td>\n",
              "      <td>0</td>\n",
              "      <td>0</td>\n",
              "      <td>1</td>\n",
              "      <td>0</td>\n",
              "      <td>1</td>\n",
              "      <td>0</td>\n",
              "      <td>1</td>\n",
              "      <td>0</td>\n",
              "    </tr>\n",
              "    <tr>\n",
              "      <th>7</th>\n",
              "      <td>0</td>\n",
              "      <td>0</td>\n",
              "      <td>3</td>\n",
              "      <td>0</td>\n",
              "      <td>1</td>\n",
              "      <td>0</td>\n",
              "      <td>0</td>\n",
              "      <td>0</td>\n",
              "      <td>0</td>\n",
              "      <td>0</td>\n",
              "      <td>...</td>\n",
              "      <td>0</td>\n",
              "      <td>0</td>\n",
              "      <td>0</td>\n",
              "      <td>0</td>\n",
              "      <td>0</td>\n",
              "      <td>0</td>\n",
              "      <td>0</td>\n",
              "      <td>0</td>\n",
              "      <td>0</td>\n",
              "      <td>0</td>\n",
              "    </tr>\n",
              "    <tr>\n",
              "      <th>8</th>\n",
              "      <td>0</td>\n",
              "      <td>1</td>\n",
              "      <td>2</td>\n",
              "      <td>1</td>\n",
              "      <td>1</td>\n",
              "      <td>0</td>\n",
              "      <td>2</td>\n",
              "      <td>1</td>\n",
              "      <td>0</td>\n",
              "      <td>0</td>\n",
              "      <td>...</td>\n",
              "      <td>0</td>\n",
              "      <td>0</td>\n",
              "      <td>0</td>\n",
              "      <td>0</td>\n",
              "      <td>0</td>\n",
              "      <td>1</td>\n",
              "      <td>0</td>\n",
              "      <td>0</td>\n",
              "      <td>0</td>\n",
              "      <td>0</td>\n",
              "    </tr>\n",
              "    <tr>\n",
              "      <th>9</th>\n",
              "      <td>0</td>\n",
              "      <td>0</td>\n",
              "      <td>0</td>\n",
              "      <td>0</td>\n",
              "      <td>1</td>\n",
              "      <td>0</td>\n",
              "      <td>0</td>\n",
              "      <td>0</td>\n",
              "      <td>0</td>\n",
              "      <td>0</td>\n",
              "      <td>...</td>\n",
              "      <td>0</td>\n",
              "      <td>0</td>\n",
              "      <td>0</td>\n",
              "      <td>0</td>\n",
              "      <td>0</td>\n",
              "      <td>0</td>\n",
              "      <td>0</td>\n",
              "      <td>0</td>\n",
              "      <td>0</td>\n",
              "      <td>0</td>\n",
              "    </tr>\n",
              "    <tr>\n",
              "      <th>10</th>\n",
              "      <td>0</td>\n",
              "      <td>0</td>\n",
              "      <td>5</td>\n",
              "      <td>0</td>\n",
              "      <td>1</td>\n",
              "      <td>0</td>\n",
              "      <td>0</td>\n",
              "      <td>0</td>\n",
              "      <td>0</td>\n",
              "      <td>0</td>\n",
              "      <td>...</td>\n",
              "      <td>0</td>\n",
              "      <td>0</td>\n",
              "      <td>0</td>\n",
              "      <td>0</td>\n",
              "      <td>0</td>\n",
              "      <td>0</td>\n",
              "      <td>0</td>\n",
              "      <td>0</td>\n",
              "      <td>0</td>\n",
              "      <td>0</td>\n",
              "    </tr>\n",
              "    <tr>\n",
              "      <th>11</th>\n",
              "      <td>0</td>\n",
              "      <td>0</td>\n",
              "      <td>1</td>\n",
              "      <td>1</td>\n",
              "      <td>1</td>\n",
              "      <td>0</td>\n",
              "      <td>0</td>\n",
              "      <td>0</td>\n",
              "      <td>0</td>\n",
              "      <td>1</td>\n",
              "      <td>...</td>\n",
              "      <td>0</td>\n",
              "      <td>0</td>\n",
              "      <td>0</td>\n",
              "      <td>0</td>\n",
              "      <td>0</td>\n",
              "      <td>0</td>\n",
              "      <td>0</td>\n",
              "      <td>0</td>\n",
              "      <td>0</td>\n",
              "      <td>1</td>\n",
              "    </tr>\n",
              "    <tr>\n",
              "      <th>12</th>\n",
              "      <td>0</td>\n",
              "      <td>0</td>\n",
              "      <td>3</td>\n",
              "      <td>0</td>\n",
              "      <td>1</td>\n",
              "      <td>0</td>\n",
              "      <td>0</td>\n",
              "      <td>0</td>\n",
              "      <td>0</td>\n",
              "      <td>0</td>\n",
              "      <td>...</td>\n",
              "      <td>0</td>\n",
              "      <td>0</td>\n",
              "      <td>0</td>\n",
              "      <td>0</td>\n",
              "      <td>1</td>\n",
              "      <td>0</td>\n",
              "      <td>0</td>\n",
              "      <td>0</td>\n",
              "      <td>0</td>\n",
              "      <td>0</td>\n",
              "    </tr>\n",
              "    <tr>\n",
              "      <th>13</th>\n",
              "      <td>0</td>\n",
              "      <td>0</td>\n",
              "      <td>1</td>\n",
              "      <td>0</td>\n",
              "      <td>1</td>\n",
              "      <td>0</td>\n",
              "      <td>0</td>\n",
              "      <td>1</td>\n",
              "      <td>0</td>\n",
              "      <td>0</td>\n",
              "      <td>...</td>\n",
              "      <td>0</td>\n",
              "      <td>0</td>\n",
              "      <td>0</td>\n",
              "      <td>1</td>\n",
              "      <td>0</td>\n",
              "      <td>0</td>\n",
              "      <td>0</td>\n",
              "      <td>0</td>\n",
              "      <td>0</td>\n",
              "      <td>0</td>\n",
              "    </tr>\n",
              "    <tr>\n",
              "      <th>14</th>\n",
              "      <td>0</td>\n",
              "      <td>0</td>\n",
              "      <td>2</td>\n",
              "      <td>0</td>\n",
              "      <td>1</td>\n",
              "      <td>0</td>\n",
              "      <td>0</td>\n",
              "      <td>0</td>\n",
              "      <td>0</td>\n",
              "      <td>0</td>\n",
              "      <td>...</td>\n",
              "      <td>0</td>\n",
              "      <td>1</td>\n",
              "      <td>0</td>\n",
              "      <td>0</td>\n",
              "      <td>0</td>\n",
              "      <td>0</td>\n",
              "      <td>0</td>\n",
              "      <td>0</td>\n",
              "      <td>0</td>\n",
              "      <td>0</td>\n",
              "    </tr>\n",
              "    <tr>\n",
              "      <th>15</th>\n",
              "      <td>2</td>\n",
              "      <td>0</td>\n",
              "      <td>4</td>\n",
              "      <td>0</td>\n",
              "      <td>1</td>\n",
              "      <td>0</td>\n",
              "      <td>0</td>\n",
              "      <td>2</td>\n",
              "      <td>0</td>\n",
              "      <td>0</td>\n",
              "      <td>...</td>\n",
              "      <td>0</td>\n",
              "      <td>0</td>\n",
              "      <td>1</td>\n",
              "      <td>0</td>\n",
              "      <td>0</td>\n",
              "      <td>0</td>\n",
              "      <td>0</td>\n",
              "      <td>1</td>\n",
              "      <td>0</td>\n",
              "      <td>0</td>\n",
              "    </tr>\n",
              "  </tbody>\n",
              "</table>\n",
              "<p>16 rows × 246 columns</p>\n",
              "</div>\n",
              "    <div class=\"colab-df-buttons\">\n",
              "\n",
              "  <div class=\"colab-df-container\">\n",
              "    <button class=\"colab-df-convert\" onclick=\"convertToInteractive('df-4e208f2d-eb3d-44cb-af5b-c143176e8fff')\"\n",
              "            title=\"Convert this dataframe to an interactive table.\"\n",
              "            style=\"display:none;\">\n",
              "\n",
              "  <svg xmlns=\"http://www.w3.org/2000/svg\" height=\"24px\" viewBox=\"0 -960 960 960\">\n",
              "    <path d=\"M120-120v-720h720v720H120Zm60-500h600v-160H180v160Zm220 220h160v-160H400v160Zm0 220h160v-160H400v160ZM180-400h160v-160H180v160Zm440 0h160v-160H620v160ZM180-180h160v-160H180v160Zm440 0h160v-160H620v160Z\"/>\n",
              "  </svg>\n",
              "    </button>\n",
              "\n",
              "  <style>\n",
              "    .colab-df-container {\n",
              "      display:flex;\n",
              "      gap: 12px;\n",
              "    }\n",
              "\n",
              "    .colab-df-convert {\n",
              "      background-color: #E8F0FE;\n",
              "      border: none;\n",
              "      border-radius: 50%;\n",
              "      cursor: pointer;\n",
              "      display: none;\n",
              "      fill: #1967D2;\n",
              "      height: 32px;\n",
              "      padding: 0 0 0 0;\n",
              "      width: 32px;\n",
              "    }\n",
              "\n",
              "    .colab-df-convert:hover {\n",
              "      background-color: #E2EBFA;\n",
              "      box-shadow: 0px 1px 2px rgba(60, 64, 67, 0.3), 0px 1px 3px 1px rgba(60, 64, 67, 0.15);\n",
              "      fill: #174EA6;\n",
              "    }\n",
              "\n",
              "    .colab-df-buttons div {\n",
              "      margin-bottom: 4px;\n",
              "    }\n",
              "\n",
              "    [theme=dark] .colab-df-convert {\n",
              "      background-color: #3B4455;\n",
              "      fill: #D2E3FC;\n",
              "    }\n",
              "\n",
              "    [theme=dark] .colab-df-convert:hover {\n",
              "      background-color: #434B5C;\n",
              "      box-shadow: 0px 1px 3px 1px rgba(0, 0, 0, 0.15);\n",
              "      filter: drop-shadow(0px 1px 2px rgba(0, 0, 0, 0.3));\n",
              "      fill: #FFFFFF;\n",
              "    }\n",
              "  </style>\n",
              "\n",
              "    <script>\n",
              "      const buttonEl =\n",
              "        document.querySelector('#df-4e208f2d-eb3d-44cb-af5b-c143176e8fff button.colab-df-convert');\n",
              "      buttonEl.style.display =\n",
              "        google.colab.kernel.accessAllowed ? 'block' : 'none';\n",
              "\n",
              "      async function convertToInteractive(key) {\n",
              "        const element = document.querySelector('#df-4e208f2d-eb3d-44cb-af5b-c143176e8fff');\n",
              "        const dataTable =\n",
              "          await google.colab.kernel.invokeFunction('convertToInteractive',\n",
              "                                                    [key], {});\n",
              "        if (!dataTable) return;\n",
              "\n",
              "        const docLinkHtml = 'Like what you see? Visit the ' +\n",
              "          '<a target=\"_blank\" href=https://colab.research.google.com/notebooks/data_table.ipynb>data table notebook</a>'\n",
              "          + ' to learn more about interactive tables.';\n",
              "        element.innerHTML = '';\n",
              "        dataTable['output_type'] = 'display_data';\n",
              "        await google.colab.output.renderOutput(dataTable, element);\n",
              "        const docLink = document.createElement('div');\n",
              "        docLink.innerHTML = docLinkHtml;\n",
              "        element.appendChild(docLink);\n",
              "      }\n",
              "    </script>\n",
              "  </div>\n",
              "\n",
              "\n",
              "<div id=\"df-63e6b7e3-7709-443b-8a79-69b434747397\">\n",
              "  <button class=\"colab-df-quickchart\" onclick=\"quickchart('df-63e6b7e3-7709-443b-8a79-69b434747397')\"\n",
              "            title=\"Suggest charts\"\n",
              "            style=\"display:none;\">\n",
              "\n",
              "<svg xmlns=\"http://www.w3.org/2000/svg\" height=\"24px\"viewBox=\"0 0 24 24\"\n",
              "     width=\"24px\">\n",
              "    <g>\n",
              "        <path d=\"M19 3H5c-1.1 0-2 .9-2 2v14c0 1.1.9 2 2 2h14c1.1 0 2-.9 2-2V5c0-1.1-.9-2-2-2zM9 17H7v-7h2v7zm4 0h-2V7h2v10zm4 0h-2v-4h2v4z\"/>\n",
              "    </g>\n",
              "</svg>\n",
              "  </button>\n",
              "\n",
              "<style>\n",
              "  .colab-df-quickchart {\n",
              "      --bg-color: #E8F0FE;\n",
              "      --fill-color: #1967D2;\n",
              "      --hover-bg-color: #E2EBFA;\n",
              "      --hover-fill-color: #174EA6;\n",
              "      --disabled-fill-color: #AAA;\n",
              "      --disabled-bg-color: #DDD;\n",
              "  }\n",
              "\n",
              "  [theme=dark] .colab-df-quickchart {\n",
              "      --bg-color: #3B4455;\n",
              "      --fill-color: #D2E3FC;\n",
              "      --hover-bg-color: #434B5C;\n",
              "      --hover-fill-color: #FFFFFF;\n",
              "      --disabled-bg-color: #3B4455;\n",
              "      --disabled-fill-color: #666;\n",
              "  }\n",
              "\n",
              "  .colab-df-quickchart {\n",
              "    background-color: var(--bg-color);\n",
              "    border: none;\n",
              "    border-radius: 50%;\n",
              "    cursor: pointer;\n",
              "    display: none;\n",
              "    fill: var(--fill-color);\n",
              "    height: 32px;\n",
              "    padding: 0;\n",
              "    width: 32px;\n",
              "  }\n",
              "\n",
              "  .colab-df-quickchart:hover {\n",
              "    background-color: var(--hover-bg-color);\n",
              "    box-shadow: 0 1px 2px rgba(60, 64, 67, 0.3), 0 1px 3px 1px rgba(60, 64, 67, 0.15);\n",
              "    fill: var(--button-hover-fill-color);\n",
              "  }\n",
              "\n",
              "  .colab-df-quickchart-complete:disabled,\n",
              "  .colab-df-quickchart-complete:disabled:hover {\n",
              "    background-color: var(--disabled-bg-color);\n",
              "    fill: var(--disabled-fill-color);\n",
              "    box-shadow: none;\n",
              "  }\n",
              "\n",
              "  .colab-df-spinner {\n",
              "    border: 2px solid var(--fill-color);\n",
              "    border-color: transparent;\n",
              "    border-bottom-color: var(--fill-color);\n",
              "    animation:\n",
              "      spin 1s steps(1) infinite;\n",
              "  }\n",
              "\n",
              "  @keyframes spin {\n",
              "    0% {\n",
              "      border-color: transparent;\n",
              "      border-bottom-color: var(--fill-color);\n",
              "      border-left-color: var(--fill-color);\n",
              "    }\n",
              "    20% {\n",
              "      border-color: transparent;\n",
              "      border-left-color: var(--fill-color);\n",
              "      border-top-color: var(--fill-color);\n",
              "    }\n",
              "    30% {\n",
              "      border-color: transparent;\n",
              "      border-left-color: var(--fill-color);\n",
              "      border-top-color: var(--fill-color);\n",
              "      border-right-color: var(--fill-color);\n",
              "    }\n",
              "    40% {\n",
              "      border-color: transparent;\n",
              "      border-right-color: var(--fill-color);\n",
              "      border-top-color: var(--fill-color);\n",
              "    }\n",
              "    60% {\n",
              "      border-color: transparent;\n",
              "      border-right-color: var(--fill-color);\n",
              "    }\n",
              "    80% {\n",
              "      border-color: transparent;\n",
              "      border-right-color: var(--fill-color);\n",
              "      border-bottom-color: var(--fill-color);\n",
              "    }\n",
              "    90% {\n",
              "      border-color: transparent;\n",
              "      border-bottom-color: var(--fill-color);\n",
              "    }\n",
              "  }\n",
              "</style>\n",
              "\n",
              "  <script>\n",
              "    async function quickchart(key) {\n",
              "      const quickchartButtonEl =\n",
              "        document.querySelector('#' + key + ' button');\n",
              "      quickchartButtonEl.disabled = true;  // To prevent multiple clicks.\n",
              "      quickchartButtonEl.classList.add('colab-df-spinner');\n",
              "      try {\n",
              "        const charts = await google.colab.kernel.invokeFunction(\n",
              "            'suggestCharts', [key], {});\n",
              "      } catch (error) {\n",
              "        console.error('Error during call to suggestCharts:', error);\n",
              "      }\n",
              "      quickchartButtonEl.classList.remove('colab-df-spinner');\n",
              "      quickchartButtonEl.classList.add('colab-df-quickchart-complete');\n",
              "    }\n",
              "    (() => {\n",
              "      let quickchartButtonEl =\n",
              "        document.querySelector('#df-63e6b7e3-7709-443b-8a79-69b434747397 button');\n",
              "      quickchartButtonEl.style.display =\n",
              "        google.colab.kernel.accessAllowed ? 'block' : 'none';\n",
              "    })();\n",
              "  </script>\n",
              "</div>\n",
              "\n",
              "  <div id=\"id_6ed288ac-7641-4d90-beeb-f933880c6214\">\n",
              "    <style>\n",
              "      .colab-df-generate {\n",
              "        background-color: #E8F0FE;\n",
              "        border: none;\n",
              "        border-radius: 50%;\n",
              "        cursor: pointer;\n",
              "        display: none;\n",
              "        fill: #1967D2;\n",
              "        height: 32px;\n",
              "        padding: 0 0 0 0;\n",
              "        width: 32px;\n",
              "      }\n",
              "\n",
              "      .colab-df-generate:hover {\n",
              "        background-color: #E2EBFA;\n",
              "        box-shadow: 0px 1px 2px rgba(60, 64, 67, 0.3), 0px 1px 3px 1px rgba(60, 64, 67, 0.15);\n",
              "        fill: #174EA6;\n",
              "      }\n",
              "\n",
              "      [theme=dark] .colab-df-generate {\n",
              "        background-color: #3B4455;\n",
              "        fill: #D2E3FC;\n",
              "      }\n",
              "\n",
              "      [theme=dark] .colab-df-generate:hover {\n",
              "        background-color: #434B5C;\n",
              "        box-shadow: 0px 1px 3px 1px rgba(0, 0, 0, 0.15);\n",
              "        filter: drop-shadow(0px 1px 2px rgba(0, 0, 0, 0.3));\n",
              "        fill: #FFFFFF;\n",
              "      }\n",
              "    </style>\n",
              "    <button class=\"colab-df-generate\" onclick=\"generateWithVariable('tf')\"\n",
              "            title=\"Generate code using this dataframe.\"\n",
              "            style=\"display:none;\">\n",
              "\n",
              "  <svg xmlns=\"http://www.w3.org/2000/svg\" height=\"24px\"viewBox=\"0 0 24 24\"\n",
              "       width=\"24px\">\n",
              "    <path d=\"M7,19H8.4L18.45,9,17,7.55,7,17.6ZM5,21V16.75L18.45,3.32a2,2,0,0,1,2.83,0l1.4,1.43a1.91,1.91,0,0,1,.58,1.4,1.91,1.91,0,0,1-.58,1.4L9.25,21ZM18.45,9,17,7.55Zm-12,3A5.31,5.31,0,0,0,4.9,8.1,5.31,5.31,0,0,0,1,6.5,5.31,5.31,0,0,0,4.9,4.9,5.31,5.31,0,0,0,6.5,1,5.31,5.31,0,0,0,8.1,4.9,5.31,5.31,0,0,0,12,6.5,5.46,5.46,0,0,0,6.5,12Z\"/>\n",
              "  </svg>\n",
              "    </button>\n",
              "    <script>\n",
              "      (() => {\n",
              "      const buttonEl =\n",
              "        document.querySelector('#id_6ed288ac-7641-4d90-beeb-f933880c6214 button.colab-df-generate');\n",
              "      buttonEl.style.display =\n",
              "        google.colab.kernel.accessAllowed ? 'block' : 'none';\n",
              "\n",
              "      buttonEl.onclick = () => {\n",
              "        google.colab.notebook.generateWithVariable('tf');\n",
              "      }\n",
              "      })();\n",
              "    </script>\n",
              "  </div>\n",
              "\n",
              "    </div>\n",
              "  </div>\n"
            ]
          },
          "metadata": {},
          "execution_count": 30
        }
      ]
    },
    {
      "cell_type": "markdown",
      "source": [
        "Em resumo, este código realiza a contagem de ocorrências de palavras em cada documento, cria uma matriz de contagem (Count Vectorization) representando essas contagens e armazena essa matriz em um DataFrame Pandas chamado tf."
      ],
      "metadata": {
        "id": "Z7f5lOcFaHdt"
      }
    },
    {
      "cell_type": "markdown",
      "source": [
        "### Usando CountVectorizer"
      ],
      "metadata": {
        "id": "tfv4o0hmWcsO"
      }
    },
    {
      "cell_type": "code",
      "source": [
        "# Exemplo básico do uso do CountVectorizer:\n",
        "\n",
        "from sklearn.feature_extraction.text import CountVectorizer\n",
        "\n",
        "# documentos de exemplo\n",
        "documents = [\n",
        "    \"Este é um exemplo de texto.\",\n",
        "    \"O segundo documento é ainda mais simples.\",\n",
        "    \"E o terceiro documento é o último exemplo.\"\n",
        "]\n",
        "\n",
        "# Inicializando essa bosta:\n",
        "vectorizer = CountVectorizer()\n",
        "\n",
        "# ajustando e transformand os documentos\n",
        "X = vectorizer.fit_transform(documents)\n",
        "\n",
        "# Obtendo o vocabulário (palavras unicas)\n",
        "vocabulary = vectorizer.get_feature_names_out()\n",
        "\n",
        "# Convertendo a matriz esparsa para uma matriz densa (para visualização)\n",
        "matriz_contagens = X.toarray()\n",
        "\n",
        "# exibindo os resultados\n",
        "print(\"Vocabulario:\")\n",
        "print(vocabulary)\n",
        "\n",
        "print(\"\\n Matriz de contagens: \")\n",
        "print(matriz_contagens)"
      ],
      "metadata": {
        "colab": {
          "base_uri": "https://localhost:8080/"
        },
        "id": "vCi2ySVZX4qx",
        "outputId": "30e270df-2f1e-4a71-acc7-ad8740fccc68"
      },
      "execution_count": null,
      "outputs": [
        {
          "output_type": "stream",
          "name": "stdout",
          "text": [
            "Vocabulario:\n",
            "['ainda' 'de' 'documento' 'este' 'exemplo' 'mais' 'segundo' 'simples'\n",
            " 'terceiro' 'texto' 'um' 'último']\n",
            "\n",
            " Matriz de contagens: \n",
            "[[0 1 0 1 1 0 0 0 0 1 1 0]\n",
            " [1 0 1 0 0 1 1 1 0 0 0 0]\n",
            " [0 0 1 0 1 0 0 0 1 0 0 1]]\n"
          ]
        }
      ]
    },
    {
      "cell_type": "markdown",
      "source": [
        "-------------\n",
        "Voltando ao nosso modelo"
      ],
      "metadata": {
        "id": "w-KiRHDKYAMe"
      }
    },
    {
      "cell_type": "code",
      "source": [
        "# Usando sklearn para calcular vetores de contagem de palavras\n",
        "from sklearn.feature_extraction.text import CountVectorizer\n",
        "corpus = [doc.text for doc in docs]\n",
        "vectorizer = CountVectorizer()\n",
        "count_vectors = vectorizer.fit_transform(corpus)  # transforma o documento em matriz de contagem\n",
        "print(count_vectors.toarray()) #\n"
      ],
      "metadata": {
        "id": "Clp0LGJ9ZBwy",
        "colab": {
          "base_uri": "https://localhost:8080/"
        },
        "outputId": "41085447-6c63-4010-eb0d-edd7bfd57fd8"
      },
      "execution_count": null,
      "outputs": [
        {
          "output_type": "stream",
          "name": "stdout",
          "text": [
            "[[0 0 0 ... 0 0 0]\n",
            " [0 0 0 ... 0 0 0]\n",
            " [0 0 0 ... 0 0 0]\n",
            " ...\n",
            " [0 0 0 ... 0 0 0]\n",
            " [0 0 0 ... 0 0 0]\n",
            " [0 0 0 ... 1 0 0]]\n"
          ]
        }
      ]
    },
    {
      "cell_type": "code",
      "source": [],
      "metadata": {
        "id": "uz3HtPGWZWQ_"
      },
      "execution_count": null,
      "outputs": []
    },
    {
      "cell_type": "code",
      "source": [
        "# obtendo o vocabulario (palavras unicas)\n",
        "cu = vectorizer.get_feature_names_out()\n",
        "print(cu)"
      ],
      "metadata": {
        "colab": {
          "base_uri": "https://localhost:8080/"
        },
        "id": "WuVR5WlnW5py",
        "outputId": "e8171c8d-e18e-4002-e8b8-3c7b3e16cab5"
      },
      "execution_count": null,
      "outputs": [
        {
          "output_type": "stream",
          "name": "stdout",
          "text": [
            "['2018' 'ability' 'accurately' 'across' 'addressed' 'advanced' 'algorithm'\n",
            " 'algorithmic' 'algorithms' 'also' 'an' 'analysis' 'and' 'anticipated'\n",
            " 'application' 'arbitrary' 'are' 'arisen' 'arrests' 'as' 'audiences'\n",
            " 'authority' 'barrier' 'be' 'because' 'become' 'been' 'behavior' 'being'\n",
            " 'between' 'bias' 'biases' 'but' 'by' 'can' 'cannot' 'cases' 'certain'\n",
            " 'change' 'cited' 'coded' 'collected' 'color' 'complexity' 'compounding'\n",
            " 'comprehensive' 'computer' 'concerned' 'considered' 'contexts' 'create'\n",
            " 'criminal' 'cultural' 'darker' 'data' 'datasets' 'decisions' 'describes'\n",
            " 'design' 'discovering' 'discrimination' 'displace' 'due' 'easily'\n",
            " 'economic' 'election' 'emerge' 'emerging' 'engine' 'enter' 'errors'\n",
            " 'ethnicity' 'european' 'even' 'examine' 'existing' 'expand'\n",
            " 'expectations' 'expertise' 'faces' 'facial' 'factors' 'for' 'found'\n",
            " 'frameworks' 'from' 'full' 'functioning' 'furthermore' 'gender' 'general'\n",
            " 'greater' 'group' 'has' 'hate' 'have' 'healthcare' 'hiring' 'human'\n",
            " 'identify' 'imbalanced' 'impact' 'impacts' 'in' 'inability'\n",
            " 'inaccurately' 'inadvertent' 'including' 'increasingly' 'initial' 'input'\n",
            " 'inputs' 'institutional' 'institutions' 'interrelated' 'into' 'is'\n",
            " 'issue' 'it' 'justice' 'legal' 'limitations' 'limited' 'linked'\n",
            " 'manipulation' 'many' 'may' 'media' 'men' 'more' 'most' 'multiple'\n",
            " 'nature' 'needed' 'network' 'neutral' 'no' 'not' 'of' 'often' 'on' 'one'\n",
            " 'online' 'only' 'opaque' 'or' 'organize' 'others' 'outcomes' 'output'\n",
            " 'over' 'persist' 'physical' 'platforms' 'politics' 'poses' 'pre'\n",
            " 'privacy' 'privileging' 'problems' 'programs' 'project' 'proprietary'\n",
            " 'protection' 'provided' 'race' 'racial' 'ranging' 'recently'\n",
            " 'recognition' 'reflect' 'regulation' 'reinforcing' 'relating' 'relative'\n",
            " 'reliance' 'repeatable' 'reproduced' 'researching' 'respond'\n",
            " 'responsibility' 'result' 'results' 'same' 'search' 'secrets' 'selected'\n",
            " 'service' 'sexuality' 'single' 'skinned' 'social' 'society'\n",
            " 'sociologists' 'software' 'some' 'speech' 'spread' 'stemming' 'study'\n",
            " 'such' 'system' 'systematic' 'systems' 'technical' 'technologies'\n",
            " 'technology' 'than' 'that' 'the' 'their' 'there' 'they' 'this' 'to'\n",
            " 'trade' 'train' 'transparency' 'treated' 'typically' 'unanticipated'\n",
            " 'unbiased' 'understanding' 'unfair' 'unintended' 'union' 'use' 'used'\n",
            " 'users' 'violations' 'way' 'ways' 'website' 'when' 'which' 'who' 'with'\n",
            " 'within' 'world' 'wrongful']\n"
          ]
        }
      ]
    },
    {
      "cell_type": "markdown",
      "source": [
        "### Similaridade do cosseno\n",
        "\n",
        "<img src=\"https://wikimedia.org/api/rest_v1/media/math/render/svg/bc7579979ab78d41b90f2cb517d18229d680dd11\">\n",
        "\n",
        "* Produto escalar entre os vetores\n",
        "* norma euclidiana de x e y"
      ],
      "metadata": {
        "id": "QsBmR5_cU2Ps"
      }
    },
    {
      "cell_type": "code",
      "source": [
        "import numpy as np\n",
        "\n",
        "def similaridade_cosseno(vetor_a, vetor_b):\n",
        "    # Calcula o produto escalar\n",
        "    produto_escalar = np.dot(vetor_a, vetor_b)\n",
        "\n",
        "    # Calcula as normas euclidianas dos vetores\n",
        "    norma_a = np.linalg.norm(vetor_a)\n",
        "    norma_b = np.linalg.norm(vetor_b)\n",
        "\n",
        "    # Calcula a similaridade do cosseno\n",
        "    similaridade = produto_escalar / (norma_a * norma_b)\n",
        "\n",
        "    return similaridade\n",
        "\n",
        "# Exemplo de uso\n",
        "vetor1 = np.array([1, 2, 3])\n",
        "vetor2 = np.array([3, -5, 6])\n",
        "\n",
        "resultado = similaridade_cosseno(vetor1, vetor2)\n",
        "print(f\"A similaridade do cosseno entre os vetores é: {resultado}\")\n"
      ],
      "metadata": {
        "id": "CVMY7S-UXqLS",
        "colab": {
          "base_uri": "https://localhost:8080/"
        },
        "outputId": "115d2999-17ad-4b1d-a7a9-23b6213e23e3"
      },
      "execution_count": null,
      "outputs": [
        {
          "output_type": "stream",
          "name": "stdout",
          "text": [
            "A similaridade do cosseno entre os vetores é: 0.35138211074996695\n"
          ]
        }
      ]
    },
    {
      "cell_type": "code",
      "source": [
        "# norma euclidiana\n",
        "def norma_euclidiana(vector):\n",
        "  euclid = np.linalg.norm(vector)\n",
        "  return euclid\n",
        "\n",
        "vector = [1, 2, 4, 6, 8, 10, 9]\n",
        "print(norma_euclidiana(vector))"
      ],
      "metadata": {
        "colab": {
          "base_uri": "https://localhost:8080/"
        },
        "id": "b27M0Ok3V8qx",
        "outputId": "910252b6-2026-4682-d8ae-08e7880a9b36"
      },
      "execution_count": null,
      "outputs": [
        {
          "output_type": "stream",
          "name": "stdout",
          "text": [
            "17.378147196982766\n"
          ]
        }
      ]
    },
    {
      "cell_type": "markdown",
      "source": [
        "Para vetores de documentos de PNL que possuem semelhança de cosseno próxima a 1, você sabe que os documentos usam palavras semelhantes em proporções semelhantes. Portanto, os documentos cujos vetores de documentos estão próximos uns dos outros provavelmente estão falando sobre a mesma coisa."
      ],
      "metadata": {
        "id": "3wr9BxYGY-oL"
      }
    },
    {
      "cell_type": "markdown",
      "source": [
        "## 2. Zipf's Law"
      ],
      "metadata": {
        "id": "McEYL-MraUxM"
      }
    },
    {
      "cell_type": "code",
      "source": [
        "import nltk\n",
        "nltk.download('brown') # download do corpus brown\n",
        "from nltk.corpus import brown # Importa o modelo brown do corpus NLTK\n",
        "brown.words()[:10] # .words() obtem uma lista de todas as palavras no corpus Brown"
      ],
      "metadata": {
        "id": "F7XBemgBWdBA",
        "colab": {
          "base_uri": "https://localhost:8080/"
        },
        "outputId": "be290ad8-c38d-46a8-8823-de626e29af02"
      },
      "execution_count": null,
      "outputs": [
        {
          "output_type": "stream",
          "name": "stderr",
          "text": [
            "[nltk_data] Downloading package brown to /root/nltk_data...\n",
            "[nltk_data]   Unzipping corpora/brown.zip.\n"
          ]
        },
        {
          "output_type": "execute_result",
          "data": {
            "text/plain": [
              "['The',\n",
              " 'Fulton',\n",
              " 'County',\n",
              " 'Grand',\n",
              " 'Jury',\n",
              " 'said',\n",
              " 'Friday',\n",
              " 'an',\n",
              " 'investigation',\n",
              " 'of']"
            ]
          },
          "metadata": {},
          "execution_count": 36
        }
      ]
    },
    {
      "cell_type": "code",
      "source": [
        "brown.tagged_words()[:10]\n",
        "# tagged_words() -> Obtem uma lista de tuplas onde cada tupla contém uma palavra e sua categoria gramatical"
      ],
      "metadata": {
        "id": "hKgO2Xara0De",
        "colab": {
          "base_uri": "https://localhost:8080/"
        },
        "outputId": "d48ef15d-236c-4e62-c867-813bef7297f3"
      },
      "execution_count": null,
      "outputs": [
        {
          "output_type": "execute_result",
          "data": {
            "text/plain": [
              "[('The', 'AT'),\n",
              " ('Fulton', 'NP-TL'),\n",
              " ('County', 'NN-TL'),\n",
              " ('Grand', 'JJ-TL'),\n",
              " ('Jury', 'NN-TL'),\n",
              " ('said', 'VBD'),\n",
              " ('Friday', 'NR'),\n",
              " ('an', 'AT'),\n",
              " ('investigation', 'NN'),\n",
              " ('of', 'IN')]"
            ]
          },
          "metadata": {},
          "execution_count": 37
        }
      ]
    },
    {
      "cell_type": "code",
      "source": [
        "# quantidade de palavras\n",
        "len(brown.words())"
      ],
      "metadata": {
        "id": "WebIKejfbRqX",
        "colab": {
          "base_uri": "https://localhost:8080/"
        },
        "outputId": "ff8d1b5c-f084-4eb1-cb27-3e89f062d44e"
      },
      "execution_count": null,
      "outputs": [
        {
          "output_type": "execute_result",
          "data": {
            "text/plain": [
              "1161192"
            ]
          },
          "metadata": {},
          "execution_count": 38
        }
      ]
    },
    {
      "cell_type": "code",
      "source": [
        "from collections import Counter\n",
        "puncs = set((',', '.', '--', '-', '!', '?',\n",
        "     ':', ';', '``', \"''\", '(', ')', '[', ']'))\n",
        "\n",
        "word_list = (x.lower() for x in brown.words() if x not in puncs)\n",
        "token_counts = Counter(word_list)\n",
        "token_counts.most_common(10)"
      ],
      "metadata": {
        "colab": {
          "base_uri": "https://localhost:8080/"
        },
        "id": "LcBvVO37hoZ_",
        "outputId": "9a15d1c8-6dfb-4b6b-cee1-153599afe871"
      },
      "execution_count": null,
      "outputs": [
        {
          "output_type": "execute_result",
          "data": {
            "text/plain": [
              "[('the', 69971),\n",
              " ('of', 36412),\n",
              " ('and', 28853),\n",
              " ('to', 26158),\n",
              " ('a', 23195),\n",
              " ('in', 21337),\n",
              " ('that', 10594),\n",
              " ('is', 10109),\n",
              " ('was', 9815),\n",
              " ('he', 9548)]"
            ]
          },
          "metadata": {},
          "execution_count": 39
        }
      ]
    },
    {
      "cell_type": "code",
      "source": [
        "# Python code to illustrate\n",
        "# working of try()\n",
        "def divide(x, y):\n",
        "\ttry:\n",
        "\t\t# Floor Division : Gives only Fractional Part as Answer\n",
        "\t\tresult = x // y\n",
        "\t\tprint(\"Yeah ! Your answer is :\", result)\n",
        "\texcept ZeroDivisionError:\n",
        "\t\tprint(\"Sorry ! You are dividing by zero \")\n",
        "\n",
        "# Look at parameters and note the working of Program\n",
        "divide(3, 2)\n"
      ],
      "metadata": {
        "id": "FnBIwjW2ilPX",
        "colab": {
          "base_uri": "https://localhost:8080/"
        },
        "outputId": "61d0ea0f-6a21-490d-845d-7605c744ed25"
      },
      "execution_count": null,
      "outputs": [
        {
          "output_type": "stream",
          "name": "stdout",
          "text": [
            "Yeah ! Your answer is : 1\n"
          ]
        }
      ]
    },
    {
      "cell_type": "code",
      "source": [],
      "metadata": {
        "id": "4nlQaougWAsk"
      },
      "execution_count": null,
      "outputs": []
    },
    {
      "cell_type": "markdown",
      "source": [
        "## Inverse Document Frequency (IDF)\n",
        "\n",
        "Primeiro, vamos obter a contagem total de palavras de cada documento do seu corpus:"
      ],
      "metadata": {
        "id": "hStNk5TJah6a"
      }
    },
    {
      "cell_type": "code",
      "source": [
        "DATA_DIR = ('https://gitlab.com/tangibleai/nlpia/'\n",
        "             '-/raw/master/src/nlpia/data')\n",
        "url = DATA_DIR + '/bias_discrimination.txt'\n",
        "bias_discrimination = requests.get(url).content.decode()\n",
        "intro_tokens = [token.text for token in nlp(bias_intro.lower())]\n",
        "disc_tokens = [token.text for token in nlp(bias_discrimination.lower())]\n",
        "intro_total = len(intro_tokens)\n",
        "intro_total"
      ],
      "metadata": {
        "id": "iorzn7OqWRJb",
        "colab": {
          "base_uri": "https://localhost:8080/"
        },
        "outputId": "c725aeca-7e0b-421f-e937-d4fce143ca5c"
      },
      "execution_count": null,
      "outputs": [
        {
          "output_type": "execute_result",
          "data": {
            "text/plain": [
              "498"
            ]
          },
          "metadata": {},
          "execution_count": 42
        }
      ]
    },
    {
      "cell_type": "code",
      "source": [
        "disc_total = len(disc_tokens)\n",
        "disc_total"
      ],
      "metadata": {
        "colab": {
          "base_uri": "https://localhost:8080/"
        },
        "id": "SaVQeY8Ob9l3",
        "outputId": "8abae7fa-9987-4e6b-c839-dc8103daf8f7"
      },
      "execution_count": null,
      "outputs": [
        {
          "output_type": "execute_result",
          "data": {
            "text/plain": [
              "9627"
            ]
          },
          "metadata": {},
          "execution_count": 43
        }
      ]
    },
    {
      "cell_type": "code",
      "source": [],
      "metadata": {
        "id": "vtzM11GjcJbN"
      },
      "execution_count": null,
      "outputs": []
    }
  ]
}